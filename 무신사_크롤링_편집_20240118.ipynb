{
  "cells": [
    {
      "cell_type": "markdown",
      "metadata": {
        "id": "view-in-github",
        "colab_type": "text"
      },
      "source": [
        "<a href=\"https://colab.research.google.com/github/gaeju/Predicting_sales_volume_for_Musinsa/blob/main/%EB%AC%B4%EC%8B%A0%EC%82%AC_%ED%81%AC%EB%A1%A4%EB%A7%81_%ED%8E%B8%EC%A7%91_20240118.ipynb\" target=\"_parent\"><img src=\"https://colab.research.google.com/assets/colab-badge.svg\" alt=\"Open In Colab\"/></a>"
      ]
    },
    {
      "cell_type": "code",
      "execution_count": null,
      "metadata": {
        "id": "7Q5yTq-Ufqh5"
      },
      "outputs": [],
      "source": [
        "import requests\n",
        "import random as rd\n",
        "import re\n",
        "import time\n",
        "import pandas as pd\n",
        "from datetime import datetime\n",
        "from urllib.request import urlopen\n",
        "from bs4 import BeautifulSoup\n",
        "from selenium import webdriver\n",
        "from selenium.webdriver.common.by import By\n",
        "from selenium.webdriver import ActionChains\n",
        "\n"
      ]
    },
    {
      "cell_type": "markdown",
      "metadata": {
        "id": "qFsm7oWYfqiB"
      },
      "source": [
        "# 상의\n",
        "수집 데이터\n",
        "카테고리, 아이템품번, 아이템 이름, 한정판매, 단독판매, 색상, 타겟 성별, 구매 성별, 구매 나이, 1개월 조회수, 좋아요 수, 가격(회원가), 배송정보, 평점, 후기수, Q&A 수, 1년 누적 판매량"
      ]
    },
    {
      "cell_type": "code",
      "execution_count": null,
      "metadata": {
        "id": "0WxtwBzMfqiE"
      },
      "outputs": [],
      "source": [
        "# driver.close()"
      ]
    },
    {
      "cell_type": "code",
      "execution_count": null,
      "metadata": {
        "id": "2RO6a1gHfqiG"
      },
      "outputs": [],
      "source": [
        "# 상의 페이지(1 page)\n",
        "driver = webdriver.Chrome()\n",
        "driver.get(\"https://www.musinsa.com/categories/item/001?d_cat_cd=001&brand=&list_kind=small&sort=pop_category&sub_sort=&page={}&display_cnt=90&group_sale=&exclusive_yn=&sale_goods=&timesale_yn=&ex_soldout=&plusDeliveryYn=&kids=&color=&price1=&price2=&shoeSizeOption=&tags=&campaign_id=&includeKeywords=&measure=\".format(1))\n",
        "driver.maximize_window()"
      ]
    },
    {
      "cell_type": "code",
      "execution_count": null,
      "metadata": {
        "id": "xxGFxkQVfqiH"
      },
      "outputs": [],
      "source": [
        "# 제품 선택 (임의로 1의 제품을 선택하여 수집)\n",
        "first_content = driver.find_element(By.CSS_SELECTOR, '#searchList > li:nth-child(1) > div.li_inner > div.article_info > p.list_info > a')\n",
        "first_content.click()\n",
        "# searchList > li:nth-child(9) > div.li_inner > div.article_info > p.item_title > a\n",
        "# li:nth-child(9) 여기서 괄호 안에 숫자가 제품의 추천순"
      ]
    },
    {
      "cell_type": "code",
      "execution_count": null,
      "metadata": {
        "id": "qUDzH3lKfqiI"
      },
      "outputs": [],
      "source": [
        "req = driver.page_source\n",
        "soup = BeautifulSoup(req, 'html.parser')"
      ]
    },
    {
      "cell_type": "markdown",
      "source": [
        "#### 대분류, 중분류"
      ],
      "metadata": {
        "id": "IUj4_DD8gDcC"
      }
    },
    {
      "cell_type": "code",
      "source": [
        "category1 = soup.select_one('div.product-detail__sc-up77yl-0.htaeEr').get_text().split('\\xa0')[0]\n",
        "category1"
      ],
      "metadata": {
        "id": "oMWZWUpKfyCW"
      },
      "execution_count": null,
      "outputs": []
    },
    {
      "cell_type": "code",
      "source": [
        "category2 = soup.select_one('div.product-detail__sc-up77yl-0.htaeEr').get_text().split('\\xa0')[2]\n",
        "category2"
      ],
      "metadata": {
        "id": "ztrzGFEDgI6r"
      },
      "execution_count": null,
      "outputs": []
    },
    {
      "cell_type": "markdown",
      "metadata": {
        "id": "Zw7PeB3yfqiM"
      },
      "source": [
        "#### 아이템 이름"
      ]
    },
    {
      "cell_type": "code",
      "execution_count": null,
      "metadata": {
        "id": "xipkjFhwfqiN"
      },
      "outputs": [],
      "source": [
        "# <span class=\"product_title\"><em>하트 벌룬 스웻 셔츠-레드</em><span class=\"product_title_eng\">Heart Balloon Sweat Shirt-Red</span> </span>\n",
        "name = soup.select_one('h3.product-detail__sc-1klhlce-3.fjguJZ').get_text()\n",
        "name"
      ]
    },
    {
      "cell_type": "markdown",
      "metadata": {
        "id": "6-x0erdIfqiO"
      },
      "source": [
        "#### 아이템 품번"
      ]
    },
    {
      "cell_type": "code",
      "execution_count": null,
      "metadata": {
        "id": "8oCZrkAwfqiP"
      },
      "outputs": [],
      "source": [
        "def 품번():\n",
        "    overlap = []\n",
        "    for i in soup.select('.product-detail__sc-achptn-4.flVcwF'):\n",
        "        overlap.append(i.get_text())\n",
        "\n",
        "    if '품번' in overlap:\n",
        "        index_num = overlap.index('품번')\n",
        "\n",
        "        if overlap[index_num+1][0] == ' ':\n",
        "            return overlap[index_num+1][1:]\n",
        "        return overlap[index_num+1]\n",
        "    else: return None\n",
        "\n",
        "품번()"
      ]
    },
    {
      "cell_type": "markdown",
      "source": [
        "### 한정판매, 무신사 단독 통합\n",
        "0: False, 1: True"
      ],
      "metadata": {
        "id": "L1T9OuJd9DqH"
      }
    },
    {
      "cell_type": "code",
      "source": [
        "# 해당 태그가 없는 상품이 있을까봐 예외처리\n",
        "def 한정_단독():\n",
        "    '''\n",
        "    return: limited_sales, exclusive_sale\\n(한정판매 여부, 단독 여부) 튜플입니다.\n",
        "    '''\n",
        "    try:\n",
        "        sales = soup.select_one('h4.product-detail__sc-1qpt7wc-1.dbnyPg').get_text()\n",
        "        if sales == '한정판매':\n",
        "            limited_sales = 1\n",
        "        else:\n",
        "            limited_sales = 0\n",
        "\n",
        "        if sales == '무신사 단독':\n",
        "            exclusive_sale = 1\n",
        "        else:\n",
        "            exclusive_sale = 0\n",
        "\n",
        "    except:\n",
        "        limited_sales = 0\n",
        "        exclusive_sale = 0\n",
        "\n",
        "    return limited_sales, exclusive_sale\n",
        "\n",
        "한정_단독()"
      ],
      "metadata": {
        "id": "5A-qGdhi9L5Y"
      },
      "execution_count": null,
      "outputs": []
    },
    {
      "cell_type": "markdown",
      "metadata": {
        "id": "w3dmd1tAfqiS"
      },
      "source": [
        "### 타겟 성별\n",
        "- 남자 = 0\n",
        "- 여자 = 1\n",
        "- 남/여 = 2"
      ]
    },
    {
      "cell_type": "code",
      "execution_count": null,
      "metadata": {
        "id": "Zfeq63LEfqiT"
      },
      "outputs": [],
      "source": [
        "def 성별():\n",
        "    overlap = []\n",
        "    for i in soup.select('.product-detail__sc-achptn-4.flVcwF'):\n",
        "        overlap.append(i.get_text())\n",
        "    if '성별' in overlap:\n",
        "        index_num = overlap.index('성별')\n",
        "        # return '아아',overlap[index_num])\n",
        "        if overlap[index_num-1] == '시즌':\n",
        "            return overlap[index_num+2]\n",
        "        else: return overlap[index_num+1]\n",
        "    else: return None\n",
        "\n",
        "def 성별2():\n",
        "    if 성별() is None:\n",
        "        return 성별()\n",
        "    else:\n",
        "        if 성별() == '남성':\n",
        "            return  0\n",
        "        elif 성별() == '여성':\n",
        "            return  1\n",
        "        else: return  2\n",
        "성별2()"
      ]
    },
    {
      "cell_type": "markdown",
      "metadata": {
        "id": "VCdtZn-ffqiT"
      },
      "source": [
        "### 구매성별\n",
        "- 남 = 0\n",
        "- 여 = 1"
      ]
    },
    {
      "cell_type": "code",
      "execution_count": null,
      "metadata": {
        "id": "OUuKJpTEfqiU"
      },
      "outputs": [],
      "source": [
        "# man graph_set_text\n",
        "# 남성일 때와 여성일 때 태그가 다름\n",
        "def 구매성별():\n",
        "    try:\n",
        "        if soup.select_one('em.product-detail__sc-wep3gk-3.kJJbYq').get_text() == '남성':\n",
        "            buy_gender = 0\n",
        "    except:\n",
        "        try:\n",
        "            if soup.select_one('em.product-detail__sc-wep3gk-3.fdjMAR').get_text() == '여성':\n",
        "                buy_gender = 1\n",
        "        except:   #항목 자체가 없을 때\n",
        "            buy_gender = None\n",
        "\n",
        "    return buy_gender\n",
        "\n",
        "구매성별()"
      ]
    },
    {
      "cell_type": "markdown",
      "source": [
        "### 구매 나이"
      ],
      "metadata": {
        "id": "2dAz_V4hgHGh"
      }
    },
    {
      "cell_type": "code",
      "source": [
        "def 구매나이():\n",
        "    '''\n",
        "    return : (age_name_1, age_name_2) 튜플입니다.\n",
        "    '''\n",
        "\n",
        "    try:\n",
        "        # 해당 엘리먼트가 있는 곳까지 스크롤\n",
        "        target_element = driver.find_element(By.XPATH, '//*[@id=\"page_product_detail\"]/div[2]/div[7]/ul/li[1]/h3')   # 구매나이 클릭\n",
        "        driver.execute_script(\"arguments[0].scrollIntoView(true);\", target_element)\n",
        "        target_element.click()\n",
        "\n",
        "        respone = driver.page_source\n",
        "        soup = BeautifulSoup(respone, 'html.parser')\n",
        "\n",
        "        age_name = soup.select('ul.bar_wrap dl:has(span.bar.hightest) dt.bar_name')\n",
        "\n",
        "        try:\n",
        "            if age_name[0] in age_name or age_name[1] in age_name:\n",
        "                age_name_1 = ','.join(age_name[0]).split()\n",
        "                age_name_1 = age_name_1[0]\n",
        "                age_name_2 = ','.join(age_name[1]).split()\n",
        "                age_name_2 = age_name_2[0]\n",
        "\n",
        "        except:\n",
        "            age_name_2 = 0\n",
        "            # age_name[0]은 필히 존재 하고 age_name[1]의 유무로 인하여 오류가 발생하므로\n",
        "            # 오류 발생 시 age_name[1]의 텍스트 값인 age_name_2만 '0' 으로 설정\n",
        "    except:\n",
        "        age_name_1 = 0\n",
        "        age_name_2 = 0\n",
        "\n",
        "    return age_name_1, age_name_2\n",
        "\n",
        "구매나이()"
      ],
      "metadata": {
        "id": "X-Y7lTYKh4pV"
      },
      "execution_count": null,
      "outputs": []
    },
    {
      "cell_type": "markdown",
      "metadata": {
        "id": "kECNXLZWfqiV"
      },
      "source": [
        "### 1개월 조회수"
      ]
    },
    {
      "cell_type": "code",
      "execution_count": null,
      "metadata": {
        "id": "voBXSH4lfqiV"
      },
      "outputs": [],
      "source": [
        "def 조회수():\n",
        "    overlap = []\n",
        "    for i in soup.select('.product-detail__sc-achptn-4.flVcwF'):\n",
        "        overlap.append(i.get_text())\n",
        "\n",
        "    if '조회수(1개월)' in overlap:\n",
        "        index_num = overlap.index('조회수(1개월)')\n",
        "        sale = overlap[index_num+1][:-4]\n",
        "\n",
        "        if sale[-2] =='만':\n",
        "            return float(sale[:-2]) * 10000\n",
        "        elif sale[-2] =='천':\n",
        "            return float(sale[:-2]) * 1000\n",
        "        else: return float(sale)\n",
        "    else: return None\n",
        "\n",
        "def 조회수2():\n",
        "    some_tag = driver.find_element(By.CSS_SELECTOR, '#page_product_detail > div.right_area.page_detail_product > div.section_graph_detail > ul > li.graph_title_viewcount > h3')\n",
        "    action = ActionChains(driver)\n",
        "    action.move_to_element(some_tag).perform()\n",
        "\n",
        "    first_content = driver.find_element(By.CSS_SELECTOR, '#page_product_detail > div.right_area.page_detail_product > div.section_graph_detail > ul > li.graph_title_viewcount > h3')\n",
        "    first_content.click()\n",
        "\n",
        "    req = driver.page_source\n",
        "    soup = BeautifulSoup(req, 'html.parser')\n",
        "\n",
        "    view = soup.select_one('ul.graph_sub_title>li>h4>strong').get_text().split(' 회')[0]\n",
        "\n",
        "    if view[-1] =='만':\n",
        "        return float(view[:-1]) * 10000\n",
        "    elif view[-1] =='천':\n",
        "        return float(view[:-1]) * 1000\n",
        "    else: return float(view.split('회')[0])\n",
        "\n",
        "try: print(조회수2())\n",
        "except: print(조회수())"
      ]
    },
    {
      "cell_type": "markdown",
      "metadata": {
        "id": "4stsNx9hfqiW"
      },
      "source": [
        "### 좋아요 수"
      ]
    },
    {
      "cell_type": "code",
      "execution_count": null,
      "metadata": {
        "id": "7F4sH-x1fqiW"
      },
      "outputs": [],
      "source": [
        "def 좋아요():\n",
        "    try:\n",
        "        tmp_like = int(soup.select_one('span.product-detail__sc-achptn-4.flUHrZ').get_text().replace(',', ''))\n",
        "    except:\n",
        "        tmp_like = 0\n",
        "\n",
        "    return tmp_like\n",
        "\n",
        "좋아요()"
      ]
    },
    {
      "cell_type": "markdown",
      "metadata": {
        "id": "rhE9q8oKfqiX"
      },
      "source": [
        "### 가격"
      ]
    },
    {
      "cell_type": "code",
      "execution_count": null,
      "metadata": {
        "id": "Ng6tbTEQfqiX"
      },
      "outputs": [],
      "source": [
        "def 가격():\n",
        "    #일반\n",
        "    try:\n",
        "        price_element = soup.select('div.product-detail__sc-1p1ulhg-6.bIRSux span.product-detail__sc-1p1ulhg-7.hSwsZE')\n",
        "        price_element = ','.join(price_element[0]).split()\n",
        "\n",
        "        if len(price_element) == 3: # 30,000원 ~ 40,000원\n",
        "            price = float(price_element[2].replace(',', '').replace('원',''))\n",
        "        else: # 40,000원\n",
        "            price = float(price_element[0].replace(',', '').replace('원',''))\n",
        "    #클리어런스\n",
        "    except:\n",
        "        price = float(soup.select_one('span.product-detail__sc-1p1ulhg-7.kqpaoP').get_text()[:-1].replace(',', ''))\n",
        "\n",
        "    return price\n",
        "가격()"
      ]
    },
    {
      "cell_type": "markdown",
      "metadata": {
        "id": "XP1EiOtlfqiY"
      },
      "source": [
        "### 할인율"
      ]
    },
    {
      "cell_type": "code",
      "execution_count": null,
      "metadata": {
        "id": "tcJ0li51fqiY"
      },
      "outputs": [],
      "source": [
        "def 할인율():\n",
        "    if soup.select_one('div.product-detail__sc-1p1ulhg-14.gNkVLj')!=None:\n",
        "        discount=soup.select_one('div.product-detail__sc-1p1ulhg-14.gNkVLj').get_text().split('%')[0]\n",
        "\n",
        "    else :\n",
        "        discount = 0\n",
        "\n",
        "    return discount\n",
        "할인율()"
      ]
    },
    {
      "cell_type": "markdown",
      "metadata": {
        "id": "4DqwAJ8zfqiZ"
      },
      "source": [
        "### 배송 일수"
      ]
    },
    {
      "cell_type": "code",
      "execution_count": null,
      "metadata": {
        "id": "v-8DBOvTfqiZ"
      },
      "outputs": [],
      "source": [
        "def get_date_difference(estimated_date):\n",
        "    date_format = '%Y/%m/%d'  # 대문자 Y는 연도를 4자리로 표시\n",
        "    target_date = datetime.strptime(estimated_date, date_format)\n",
        "\n",
        "    # 오늘 날짜를 구합니다.\n",
        "    today = datetime.now()\n",
        "\n",
        "    # 날짜 차이를 계산합니다.\n",
        "    difference = today - target_date\n",
        "\n",
        "    return abs(difference.days)\n",
        "\n",
        "def 배송일자():\n",
        "        arrival_text = soup.select_one(\".product-detail__sc-1ys1x0v-4.bPYIon\")\n",
        "        if arrival_text is not None:\n",
        "            date_text = arrival_text.get_text().split('(')[0]\n",
        "            estimated_date = '2024/' + date_text\n",
        "\n",
        "            return  get_date_difference(estimated_date)\n",
        "\n",
        "        else:\n",
        "            # 배송 예정일이 없을 경우\n",
        "            a = []\n",
        "            for i in soup.select('span.product-detail__sc-1ts9zk8-4.hwqlaH'):\n",
        "                a.append(i.get_text())\n",
        "\n",
        "            try:\n",
        "                if '출고 정보' in a:\n",
        "                    print('출고 정보 + 2 :')\n",
        "                    num = a.index('출고 정보') # 0번 # '출고 정보'가 없을 경우 에러가 뜸!\n",
        "                    return  int(a[num+1].split(' ')[1].split('일')[0]) + 2\n",
        "                else:\n",
        "                    return  None\n",
        "            except:\n",
        "                 print('출고 정보에 날짜 없음(예: 13시 까지 주문 시 당일 출고)')\n",
        "                 return None\n",
        "\n",
        "배송일자()"
      ]
    },
    {
      "cell_type": "markdown",
      "metadata": {
        "id": "-qly1zuGfqib"
      },
      "source": [
        "### 평점"
      ]
    },
    {
      "cell_type": "code",
      "execution_count": null,
      "metadata": {
        "id": "HsET-Jz7fqib"
      },
      "outputs": [],
      "source": [
        "def 평점():\n",
        "    try:\n",
        "        tmp_pro_rating = float(soup.select_one('.product-detail__sc-achptn-4.iKKecn').get_text())\n",
        "    except:\n",
        "        tmp_pro_rating = None\n",
        "\n",
        "    return tmp_pro_rating\n",
        "\n",
        "평점()"
      ]
    },
    {
      "cell_type": "markdown",
      "metadata": {
        "id": "88pTt_n9fqib"
      },
      "source": [
        "### 후기 수"
      ]
    },
    {
      "cell_type": "code",
      "execution_count": null,
      "metadata": {
        "id": "7BMoJJS-fqib"
      },
      "outputs": [],
      "source": [
        "def 후기수():\n",
        "    try:\n",
        "        tmp_review = int(soup.select_one('#review_total').get_text().replace(',', ''))\n",
        "    except:\n",
        "        tmp_review = None\n",
        "\n",
        "    return tmp_review\n",
        "\n",
        "후기수()"
      ]
    },
    {
      "cell_type": "markdown",
      "metadata": {
        "id": "T6zDs0JHfqik"
      },
      "source": [
        "### 구매수"
      ]
    },
    {
      "cell_type": "code",
      "execution_count": null,
      "metadata": {
        "id": "wtSsZ0yxfqil"
      },
      "outputs": [],
      "source": [
        "def 누적판매():\n",
        "    overlap = []\n",
        "    for i in soup.select('.product-detail__sc-achptn-4.flVcwF'):\n",
        "        overlap.append(i.get_text())\n",
        "\n",
        "    if '누적판매(1년)' in overlap:\n",
        "        index_num = overlap.index('누적판매(1년)')\n",
        "        sale = overlap[index_num+1][:-4]\n",
        "        if sale[-2] =='만':\n",
        "            return float(sale[:-2]) * 10000\n",
        "        elif sale[-2] =='천':\n",
        "            return float(sale[:-2]) * 1000\n",
        "        else: return float(sale)\n",
        "    else: return None\n",
        "\n",
        "누적판매()"
      ]
    },
    {
      "cell_type": "markdown",
      "source": [
        "### 리뷰 크롤링1"
      ],
      "metadata": {
        "id": "twsi_wmfncGa"
      }
    },
    {
      "cell_type": "code",
      "source": [
        "# 리뷰 크롤링 함수1\n",
        "def review_crawling(soup):\n",
        "\n",
        "    # 유저명\n",
        "    tmp_user_names = []\n",
        "\n",
        "    for i in soup.select('p.review-profile__name'):\n",
        "        if i.get_text() == '탈퇴회원':\n",
        "            tmp_result = '탈퇴회원'\n",
        "\n",
        "        else:\n",
        "            tmp_result = i.get_text().split(' ', maxsplit=1)[1]\n",
        "        tmp_user_names.append(tmp_result)\n",
        "\n",
        "    # 유저 평점\n",
        "    tmp_user_ratings = []\n",
        "    search_review_rating = re.compile('\\d+')\n",
        "\n",
        "    for i in soup.select('span.review-list__rating__active'):\n",
        "        tmp_result = search_review_rating.findall(str(i))[0]\n",
        "        tmp_user_ratings.append(tmp_result)\n",
        "\n",
        "    # 유저 리뷰\n",
        "    tmp_user_reviews = []\n",
        "\n",
        "    for i in soup.select('div.review-contents__text'):\n",
        "        tmp_result = i.get_text()\n",
        "        tmp_user_reviews.append(tmp_result)\n",
        "\n",
        "    # 상품이름\n",
        "    name = soup.select_one('h3.product-detail__sc-1klhlce-3.fjguJZ').get_text()\n",
        "    tmp_names = [name] * len(tmp_user_ratings)\n",
        "\n",
        "    # 품번\n",
        "    number = soup.select_one('li.product-detail__sc-achptn-2.dEZkTF > div.product-detail__sc-achptn-6.gfoaTb > span.product-detail__sc-achptn-4.flVcwF').get_text()\n",
        "    if number[0] == ' ':   # 앞 자리 공백 제거\n",
        "        number = number[1:]\n",
        "    tmp_numbers = [number] * len(tmp_user_ratings)\n",
        "\n",
        "    return tmp_names, tmp_numbers, tmp_user_names, tmp_user_ratings, tmp_user_reviews"
      ],
      "metadata": {
        "id": "Ak4kd9bxnbZG"
      },
      "execution_count": null,
      "outputs": []
    },
    {
      "cell_type": "markdown",
      "source": [
        "### 리뷰 크롤링2"
      ],
      "metadata": {
        "id": "QCcu2yy7nqR0"
      }
    },
    {
      "cell_type": "code",
      "source": [
        "# 리뷰 크롤링 함수2 (함수1 사용)\n",
        "def get_tmp_df_musinsa_review_raw(driver, tag_dict):\n",
        "    '''\n",
        "    ex) tag_dict = {'name1':'tag1', ...}\n",
        "\n",
        "    '''\n",
        "    tmp_names = []\n",
        "    tmp_numbers = []\n",
        "    tmp_user_names = []\n",
        "    tmp_user_ratings = []\n",
        "    tmp_user_reviews = []\n",
        "\n",
        "    # 후기 클릭-----------------------------------------------------------------------------------------------\n",
        "    for key in tag_dict.keys():\n",
        "\n",
        "        driver.find_element(By.ID, tag_dict[key]).click()\n",
        "        time.sleep(1)\n",
        "        # 후기 리뷰 개수\n",
        "        search_review_num = re.compile('\\d+[,]?\\d+')\n",
        "        try:\n",
        "\n",
        "            tmp_review_count = int(search_review_num.findall(driver.find_element(By.ID, tag_dict[key]).text)[0])\n",
        "        except:\n",
        "            try:\n",
        "\n",
        "                tmp_review_count = int(search_review_num.findall(driver.find_element(By.ID, tag_dict[key]).text)[0].replace(',', ''))\n",
        "            except:\n",
        "                search_review_num = re.compile('\\d+')\n",
        "                tmp_review_count = int(search_review_num.findall(driver.find_element(By.ID, tag_dict[key]).text)[0])\n",
        "\n",
        "        if tmp_review_count == 0:\n",
        "            print(f'{key} 없음')\n",
        "            # 다음 리뷰 크롤링으로 이동\n",
        "\n",
        "        else:\n",
        "            # 리뷰 1페이지 크롤링\n",
        "            req = driver.page_source\n",
        "            soup = BeautifulSoup(req, 'html.parser')\n",
        "\n",
        "            tmp_names1, tmp_numbers1, tmp_user_names1, tmp_user_ratings1, tmp_user_reviews1 = review_crawling(soup)\n",
        "            # print(f'{key} 1페이지 유저 이름: {tmp_user_names1}')\n",
        "\n",
        "            tmp_names = tmp_names + tmp_names1\n",
        "            tmp_numbers = tmp_numbers + tmp_numbers1\n",
        "            tmp_user_names = tmp_user_names + tmp_user_names1\n",
        "            tmp_user_ratings = tmp_user_ratings + tmp_user_ratings1\n",
        "            tmp_user_reviews = tmp_user_reviews + tmp_user_reviews1\n",
        "\n",
        "            # 리뷰가 10개 초과여서 다음 페이지 크롤링이 필요한 경우\n",
        "            if tmp_review_count > 10:\n",
        "                # 후기 다음 페이지 클릭\n",
        "                # 다른 요소로 스크롤하여 클릭하려는 요소가 보이도록 만들기\n",
        "                # from selenium.webdriver.common.keys import Keys\n",
        "\n",
        "                try:\n",
        "                    target_element = driver.find_element(By.XPATH, '//*[@id=\"reviewListFragment\"]/div[11]/div[2]/div/a[4]')   #2페이지\n",
        "                    driver.execute_script(\"arguments[0].scrollIntoView(true);\", target_element)\n",
        "                    target_element.click()\n",
        "\n",
        "                except:\n",
        "                    print(\"2페이지로 넘어갈 수 없습니다.\")\n",
        "\n",
        "                # time.sleep(1)\n",
        "                # driver.find_element(By.XPATH, '//*[@id=\"reviewListFragment\"]/div[11]/div[2]/div/a[4]').click()\n",
        "                time.sleep(1)\n",
        "\n",
        "                req = driver.page_source\n",
        "                soup = BeautifulSoup(req, 'html.parser')\n",
        "\n",
        "                tmp_names2, tmp_numbers2, tmp_user_names2, tmp_user_ratings2, tmp_user_reviews2 = review_crawling(soup)\n",
        "                # print(f'{key} 2페이지 유저 이름: {tmp_user_names2}')\n",
        "\n",
        "                tmp_names = tmp_names + tmp_names2[:5]\n",
        "                tmp_numbers = tmp_numbers + tmp_numbers2[:5]\n",
        "                tmp_user_names = tmp_user_names + tmp_user_names2[:5]\n",
        "                tmp_user_ratings = tmp_user_ratings + tmp_user_ratings2[:5]\n",
        "                tmp_user_reviews = tmp_user_reviews + tmp_user_reviews2[:5]\n",
        "                # print(f'{key} 수집 후 유저 이름: {tmp_user_names}')\n",
        "\n",
        "\n",
        "            list_len = 15 if tmp_review_count >= 15 else tmp_review_count\n",
        "            print(f'{key} 수집: {list_len} 개')\n",
        "\n",
        "    return tmp_names, tmp_numbers, tmp_user_names, tmp_user_ratings, tmp_user_reviews"
      ],
      "metadata": {
        "id": "YDbXFHk2nph0"
      },
      "execution_count": null,
      "outputs": []
    },
    {
      "cell_type": "markdown",
      "source": [
        "\n",
        "\n",
        "---\n",
        "\n"
      ],
      "metadata": {
        "id": "y_L_MPC16xZC"
      }
    },
    {
      "cell_type": "markdown",
      "metadata": {
        "id": "bBlWo0H6fqil"
      },
      "source": [
        "## 자동화"
      ]
    },
    {
      "cell_type": "code",
      "execution_count": null,
      "metadata": {
        "id": "Te56qDMDfqil"
      },
      "outputs": [],
      "source": [
        "# 실제로는 100페이지 정도를 추출해서 각 페이지 당 10개씩 추출하는 등으로 진행\n",
        "page = sorted(rd.sample(range(1, 20), 5))"
      ]
    },
    {
      "cell_type": "code",
      "execution_count": null,
      "metadata": {
        "id": "9AuMOkj0fqim"
      },
      "outputs": [],
      "source": [
        "# 페이지 내에 상품 랜덤 추출\n",
        "import random as rd\n",
        "\n",
        "random_product = rd.sample(range(1, 91), 90)\n",
        "random_product = sorted(random_product)\n",
        "random_product"
      ]
    },
    {
      "cell_type": "code",
      "execution_count": null,
      "metadata": {
        "id": "7DvYELhofqim"
      },
      "outputs": [],
      "source": [
        "import time\n",
        "# 상의 페이지(1 page)\n",
        "\n",
        "major_category = [] # 대분류\n",
        "middle_category = [] # 중분류\n",
        "names = [] # 제품명\n",
        "numbers = [] # 품번\n",
        "limit = [] # 한정판매\n",
        "exclusive = [] # 단독판매\n",
        "target_gen = [] # 타겟성별\n",
        "buy_gen = [] # 구매 성별\n",
        "buy_age = [] # 구매 나이\n",
        "month_view = [] # 1개월 조회수\n",
        "like_cnt = [] # 좋아요 수\n",
        "pro_price = [] # 판매 가격\n",
        "discount_rate=[] # 할인률\n",
        "delivery_date = [] # 배송일자\n",
        "pro_rating = [] # 평점\n",
        "review = [] # 리뷰 수\n",
        "buy = [] # 1년 간 누적 판매\n",
        "\n",
        "df_musinsa_review_raw = pd.DataFrame(columns=['product_names', 'product_ids', 'user_names', 'user_ratings', 'user_reviews'])   #리뷰 수집df\n",
        "tag_dict = {'스타일 후기': 'estimate_style', '상품 후기': 'estimate_photo', '일반 후기': 'estimate_goods'}\n",
        "\n",
        "driver = webdriver.Chrome()\n",
        "for i in page:\n",
        "    # 페이지 열기\n",
        "    driver.get(\"https://www.musinsa.com/categories/item/001?d_cat_cd=001&brand=&list_kind=small&sort=pop_category&sub_sort=&page={}&display_cnt=90&group_sale=&exclusive_yn=&sale_goods=&timesale_yn=&ex_soldout=&plusDeliveryYn=&kids=&color=&price1=&price2=&shoeSizeOption=&tags=&campaign_id=&includeKeywords=&measure=\".format(i))\n",
        "    driver.maximize_window()\n",
        "    time.sleep(3)\n",
        "\n",
        "    for j in random_product:\n",
        "        print(f'{i}페이지 {j}번 상품 리뷰 크롤링 시작-------------------')\n",
        "\n",
        "        try:\n",
        "        # 제품 클릭하기 여기서 화면 크기때문에 클릭이 안될 수 있음. if문으로 스크롤 넣어주기\n",
        "            first_content = driver.find_element(By.CSS_SELECTOR, '#searchList > li:nth-child({}) > div.li_inner > div.article_info > p.list_info > a'.format(j))\n",
        "            first_content.click()\n",
        "            time.sleep(2)\n",
        "\n",
        "        except:\n",
        "            driver.get(\"https://www.musinsa.com/categories/item/001?d_cat_cd=001&brand=&list_kind=small&sort=pop_category&sub_sort=&page={}&display_cnt=90&group_sale=&exclusive_yn=&sale_goods=&timesale_yn=&ex_soldout=&plusDeliveryYn=&kids=&color=&price1=&price2=&shoeSizeOption=&tags=&campaign_id=&includeKeywords=&measure=\".format(i))\n",
        "            first_content = driver.find_element(By.CSS_SELECTOR, '#searchList > li:nth-child({}) > div.li_inner > div.article_info > p.list_info > a'.format(j+1))\n",
        "            first_content.click()\n",
        "            time.sleep(2)\n",
        "\n",
        "        # 화면 html 코드 가져오기\n",
        "        req = driver.page_source\n",
        "        soup = BeautifulSoup(req, 'html.parser')\n",
        "\n",
        "        # 대분류와 중분류\n",
        "        # out of list error 발생 시 time.sleep()을 걸어보세요.\n",
        "        category1 = soup.select_one('div.product-detail__sc-up77yl-0.htaeEr').get_text().split('\\xa0')[0]\n",
        "        major_category.append(category1)\n",
        "\n",
        "        category2 = soup.select_one('div.product-detail__sc-up77yl-0.htaeEr').get_text().split('\\xa0')[2]\n",
        "        middle_category.append(category2)\n",
        "\n",
        "        # 이름\n",
        "        name = soup.select_one('h3.product-detail__sc-1klhlce-3.fjguJZ').get_text()\n",
        "        names.append(name)\n",
        "\n",
        "        # 품번\n",
        "        numbers.append(품번())\n",
        "\n",
        "        # 한정판매\n",
        "        limit.append(한정_단독()[0])\n",
        "\n",
        "        # 단독판매\n",
        "        exclusive.append(한정_단독()[1])\n",
        "\n",
        "        # 타겟 젠더\n",
        "        target_gen.append(성별2())\n",
        "\n",
        "        # 구매 성별\n",
        "        buy_gen.append(구매성별())\n",
        "\n",
        "        # 구매 나이\n",
        "        buy_age.append(구매나이())\n",
        "\n",
        "        # 1개월 조회수\n",
        "        try:\n",
        "            month_view.append(조회수2())\n",
        "        except:\n",
        "            month_view.append(조회수())\n",
        "\n",
        "        # 좋아요 수\n",
        "        like_cnt.append(좋아요())\n",
        "\n",
        "        # 가격(가격)\n",
        "        pro_price.append(가격())\n",
        "\n",
        "        # 할인율\n",
        "        discount_rate.append(할인율())\n",
        "\n",
        "        # 배송일자\n",
        "        delivery_date.append(배송일자())\n",
        "\n",
        "        # 평점\n",
        "        pro_rating.append(평점())\n",
        "\n",
        "        # 후기수\n",
        "        review.append(후기수())\n",
        "\n",
        "        # 구매수\n",
        "        buy.append(누적판매())\n",
        "\n",
        "        #리뷰 크롤링\n",
        "        product_names, product_ids, user_names, user_ratings, user_reviews = get_tmp_df_musinsa_review_raw(driver, tag_dict)\n",
        "\n",
        "        tmp_df_musinsa_review_raw = pd.DataFrame({'product_names': product_names, 'product_ids': product_ids, 'user_names': user_names, 'user_ratings': user_ratings, 'user_reviews': user_reviews})\n",
        "\n",
        "        df_musinsa_review_raw = pd.concat([df_musinsa_review_raw, tmp_df_musinsa_review_raw], axis=0)\n",
        "        print(f'Total DF rows: {df_musinsa_review_raw.count()[1]}')\n",
        "        driver.back()\n",
        "        time.sleep(1)"
      ]
    },
    {
      "cell_type": "code",
      "execution_count": null,
      "metadata": {
        "id": "cTI4T2ZAfqin"
      },
      "outputs": [],
      "source": [
        "len(major_category),len(middle_category),len(names), len(numbers), len(limit), len(exclusive), len(target_gen), len(buy_gen), len(month_view), len(like_cnt), len(pro_price),len(discount_rate) ,len(delivery_date), len(pro_rating), len(review), len(buy)"
      ]
    },
    {
      "cell_type": "code",
      "execution_count": null,
      "metadata": {
        "id": "aaR_xyn2fqin"
      },
      "outputs": [],
      "source": [
        "import pandas as pd\n",
        "\n",
        "pd.DataFrame({'major_category':major_category,'middle_category': middle_category,'name': names, 'number': numbers, 'limit': limit, 'exclusive': exclusive, 'target_gender': target_gen,\n",
        "              'buy_gender': buy_gen, 'buy_age' : buy_age, 'view': month_view, 'like': like_cnt, 'price': pro_price, 'discount_rate':discount_rate, 'delivery_date': delivery_date,\n",
        "              'rating': pro_rating, 'review': review, 'buy':buy})"
      ]
    }
  ],
  "metadata": {
    "kernelspec": {
      "display_name": "Python 3 (ipykernel)",
      "language": "python",
      "name": "python3"
    },
    "language_info": {
      "codemirror_mode": {
        "name": "ipython",
        "version": 3
      },
      "file_extension": ".py",
      "mimetype": "text/x-python",
      "name": "python",
      "nbconvert_exporter": "python",
      "pygments_lexer": "ipython3",
      "version": "3.9.12"
    },
    "colab": {
      "provenance": [],
      "include_colab_link": true
    }
  },
  "nbformat": 4,
  "nbformat_minor": 0
}