{
  "cells": [
    {
      "cell_type": "code",
      "execution_count": null,
      "metadata": {
        "id": "_8mrwCUoxosg"
      },
      "outputs": [],
      "source": [
        "import pandas as pd"
      ]
    },
    {
      "cell_type": "code",
      "execution_count": null,
      "metadata": {
        "id": "BLxnn6czxosi",
        "outputId": "faec0f3d-bdf3-478f-b573-8c1ed52af41b"
      },
      "outputs": [
        {
          "data": {
            "text/html": [
              "<div>\n",
              "<style scoped>\n",
              "    .dataframe tbody tr th:only-of-type {\n",
              "        vertical-align: middle;\n",
              "    }\n",
              "\n",
              "    .dataframe tbody tr th {\n",
              "        vertical-align: top;\n",
              "    }\n",
              "\n",
              "    .dataframe thead th {\n",
              "        text-align: right;\n",
              "    }\n",
              "</style>\n",
              "<table border=\"1\" class=\"dataframe\">\n",
              "  <thead>\n",
              "    <tr style=\"text-align: right;\">\n",
              "      <th></th>\n",
              "      <th>major_category</th>\n",
              "      <th>middle_category</th>\n",
              "      <th>name</th>\n",
              "      <th>number</th>\n",
              "      <th>limit</th>\n",
              "      <th>exclusive</th>\n",
              "      <th>target_gender</th>\n",
              "      <th>buy_gender</th>\n",
              "      <th>buy_age</th>\n",
              "      <th>view</th>\n",
              "      <th>like</th>\n",
              "      <th>price</th>\n",
              "      <th>discount_rate</th>\n",
              "      <th>delivery_date</th>\n",
              "      <th>rating</th>\n",
              "      <th>review</th>\n",
              "      <th>buy</th>\n",
              "      <th>score</th>\n",
              "      <th>buy_age1</th>\n",
              "      <th>buy_age2</th>\n",
              "    </tr>\n",
              "  </thead>\n",
              "  <tbody>\n",
              "    <tr>\n",
              "      <th>0</th>\n",
              "      <td>상의</td>\n",
              "      <td>셔츠/블라우스</td>\n",
              "      <td>오버사이즈 16골 에센셜 코듀로이 셔츠 블랙</td>\n",
              "      <td>22FWGS28BK</td>\n",
              "      <td>1</td>\n",
              "      <td>0</td>\n",
              "      <td>2</td>\n",
              "      <td>0.0</td>\n",
              "      <td>('29~33세', 0)</td>\n",
              "      <td>1200.0</td>\n",
              "      <td>493</td>\n",
              "      <td>39800.0</td>\n",
              "      <td>20</td>\n",
              "      <td>19.0</td>\n",
              "      <td>4.6</td>\n",
              "      <td>36</td>\n",
              "      <td>50.0</td>\n",
              "      <td>0.976190</td>\n",
              "      <td>4</td>\n",
              "      <td>0</td>\n",
              "    </tr>\n",
              "    <tr>\n",
              "      <th>1</th>\n",
              "      <td>상의</td>\n",
              "      <td>니트/스웨터</td>\n",
              "      <td>TD5-SW01 램스울 라운드 니트-만다린오렌지</td>\n",
              "      <td>TD5-SW01_MAO</td>\n",
              "      <td>1</td>\n",
              "      <td>0</td>\n",
              "      <td>0</td>\n",
              "      <td>0.0</td>\n",
              "      <td>('29~33세', 0)</td>\n",
              "      <td>4900.0</td>\n",
              "      <td>650</td>\n",
              "      <td>53550.0</td>\n",
              "      <td>10</td>\n",
              "      <td>5.0</td>\n",
              "      <td>4.9</td>\n",
              "      <td>61</td>\n",
              "      <td>200.0</td>\n",
              "      <td>0.954545</td>\n",
              "      <td>4</td>\n",
              "      <td>0</td>\n",
              "    </tr>\n",
              "    <tr>\n",
              "      <th>2</th>\n",
              "      <td>상의</td>\n",
              "      <td>후드 티셔츠</td>\n",
              "      <td>[SET UP] PPP 플라워 후드 셋업_멜란지 그레이</td>\n",
              "      <td>KBCS1TH003MGKBCS1PL003MGKBCS1PS003MG</td>\n",
              "      <td>1</td>\n",
              "      <td>0</td>\n",
              "      <td>2</td>\n",
              "      <td>1.0</td>\n",
              "      <td>('19~23세', 0)</td>\n",
              "      <td>3600.0</td>\n",
              "      <td>2536</td>\n",
              "      <td>49900.0</td>\n",
              "      <td>49</td>\n",
              "      <td>5.0</td>\n",
              "      <td>4.8</td>\n",
              "      <td>41</td>\n",
              "      <td>150.0</td>\n",
              "      <td>1.000000</td>\n",
              "      <td>2</td>\n",
              "      <td>0</td>\n",
              "    </tr>\n",
              "    <tr>\n",
              "      <th>3</th>\n",
              "      <td>상의</td>\n",
              "      <td>후드 티셔츠</td>\n",
              "      <td>TIE DYE 후드티 Olive Green</td>\n",
              "      <td>CTTZPHD01UG4</td>\n",
              "      <td>0</td>\n",
              "      <td>0</td>\n",
              "      <td>0</td>\n",
              "      <td>0.0</td>\n",
              "      <td>('40세~', 0)</td>\n",
              "      <td>1000.0</td>\n",
              "      <td>569</td>\n",
              "      <td>19800.0</td>\n",
              "      <td>80</td>\n",
              "      <td>5.0</td>\n",
              "      <td>4.8</td>\n",
              "      <td>62</td>\n",
              "      <td>150.0</td>\n",
              "      <td>0.971429</td>\n",
              "      <td>6</td>\n",
              "      <td>0</td>\n",
              "    </tr>\n",
              "    <tr>\n",
              "      <th>4</th>\n",
              "      <td>상의</td>\n",
              "      <td>긴소매 티셔츠</td>\n",
              "      <td>essential turtleneck logo top - pink</td>\n",
              "      <td>BT23WTS002PIKF</td>\n",
              "      <td>1</td>\n",
              "      <td>0</td>\n",
              "      <td>1</td>\n",
              "      <td>1.0</td>\n",
              "      <td>('24~28세', 0)</td>\n",
              "      <td>11000.0</td>\n",
              "      <td>2561</td>\n",
              "      <td>43000.0</td>\n",
              "      <td>0</td>\n",
              "      <td>28.0</td>\n",
              "      <td>4.8</td>\n",
              "      <td>34</td>\n",
              "      <td>100.0</td>\n",
              "      <td>0.964286</td>\n",
              "      <td>3</td>\n",
              "      <td>0</td>\n",
              "    </tr>\n",
              "    <tr>\n",
              "      <th>...</th>\n",
              "      <td>...</td>\n",
              "      <td>...</td>\n",
              "      <td>...</td>\n",
              "      <td>...</td>\n",
              "      <td>...</td>\n",
              "      <td>...</td>\n",
              "      <td>...</td>\n",
              "      <td>...</td>\n",
              "      <td>...</td>\n",
              "      <td>...</td>\n",
              "      <td>...</td>\n",
              "      <td>...</td>\n",
              "      <td>...</td>\n",
              "      <td>...</td>\n",
              "      <td>...</td>\n",
              "      <td>...</td>\n",
              "      <td>...</td>\n",
              "      <td>...</td>\n",
              "      <td>...</td>\n",
              "      <td>...</td>\n",
              "    </tr>\n",
              "    <tr>\n",
              "      <th>4926</th>\n",
              "      <td>아우터</td>\n",
              "      <td>숏패딩/숏헤비 아우터</td>\n",
              "      <td>다운 숏 푸퍼-블랙</td>\n",
              "      <td>P22FWOT001</td>\n",
              "      <td>0</td>\n",
              "      <td>0</td>\n",
              "      <td>2</td>\n",
              "      <td>0.0</td>\n",
              "      <td>('19~23세', 0)</td>\n",
              "      <td>2900.0</td>\n",
              "      <td>771</td>\n",
              "      <td>139000.0</td>\n",
              "      <td>43</td>\n",
              "      <td>5.0</td>\n",
              "      <td>4.9</td>\n",
              "      <td>17</td>\n",
              "      <td>50.0</td>\n",
              "      <td>0.964286</td>\n",
              "      <td>2</td>\n",
              "      <td>0</td>\n",
              "    </tr>\n",
              "    <tr>\n",
              "      <th>4927</th>\n",
              "      <td>아우터</td>\n",
              "      <td>스포츠/용품</td>\n",
              "      <td>나일론 아노락 자켓 - 블랙 / 2033B427-001</td>\n",
              "      <td>2033B427-001</td>\n",
              "      <td>0</td>\n",
              "      <td>1</td>\n",
              "      <td>0</td>\n",
              "      <td>0.0</td>\n",
              "      <td>('24~28세', 0)</td>\n",
              "      <td>2100.0</td>\n",
              "      <td>1275</td>\n",
              "      <td>87200.0</td>\n",
              "      <td>20</td>\n",
              "      <td>4.0</td>\n",
              "      <td>4.9</td>\n",
              "      <td>222</td>\n",
              "      <td>300.0</td>\n",
              "      <td>0.987500</td>\n",
              "      <td>3</td>\n",
              "      <td>0</td>\n",
              "    </tr>\n",
              "    <tr>\n",
              "      <th>4928</th>\n",
              "      <td>아우터</td>\n",
              "      <td>패딩 베스트</td>\n",
              "      <td>[MENS] 리버서블 패딩 조끼(10 color)</td>\n",
              "      <td>HBA-VT-M201</td>\n",
              "      <td>0</td>\n",
              "      <td>0</td>\n",
              "      <td>0</td>\n",
              "      <td>0.0</td>\n",
              "      <td>('34~39세', 0)</td>\n",
              "      <td>1400.0</td>\n",
              "      <td>198</td>\n",
              "      <td>38400.0</td>\n",
              "      <td>60</td>\n",
              "      <td>5.0</td>\n",
              "      <td>4.8</td>\n",
              "      <td>33</td>\n",
              "      <td>100.0</td>\n",
              "      <td>0.976190</td>\n",
              "      <td>5</td>\n",
              "      <td>0</td>\n",
              "    </tr>\n",
              "    <tr>\n",
              "      <th>4929</th>\n",
              "      <td>아우터</td>\n",
              "      <td>숏패딩/숏헤비 아우터</td>\n",
              "      <td>숏 미니멀 덕다운 패딩 블랙</td>\n",
              "      <td>3001</td>\n",
              "      <td>0</td>\n",
              "      <td>1</td>\n",
              "      <td>0</td>\n",
              "      <td>0.0</td>\n",
              "      <td>('29~33세', 0)</td>\n",
              "      <td>3300.0</td>\n",
              "      <td>2028</td>\n",
              "      <td>238400.0</td>\n",
              "      <td>20</td>\n",
              "      <td>7.0</td>\n",
              "      <td>4.8</td>\n",
              "      <td>87</td>\n",
              "      <td>100.0</td>\n",
              "      <td>0.988095</td>\n",
              "      <td>4</td>\n",
              "      <td>0</td>\n",
              "    </tr>\n",
              "    <tr>\n",
              "      <th>4930</th>\n",
              "      <td>아우터</td>\n",
              "      <td>아노락 재킷</td>\n",
              "      <td>Pocket Tidy Hood Anorak H7 Navy/Green</td>\n",
              "      <td>409</td>\n",
              "      <td>1</td>\n",
              "      <td>0</td>\n",
              "      <td>2</td>\n",
              "      <td>1.0</td>\n",
              "      <td>('34~39세', 0)</td>\n",
              "      <td>400.0</td>\n",
              "      <td>368</td>\n",
              "      <td>53000.0</td>\n",
              "      <td>40</td>\n",
              "      <td>5.0</td>\n",
              "      <td>5.0</td>\n",
              "      <td>22</td>\n",
              "      <td>50.0</td>\n",
              "      <td>0.947368</td>\n",
              "      <td>5</td>\n",
              "      <td>0</td>\n",
              "    </tr>\n",
              "  </tbody>\n",
              "</table>\n",
              "<p>4931 rows × 20 columns</p>\n",
              "</div>"
            ],
            "text/plain": [
              "     major_category middle_category                                   name  \\\n",
              "0                상의         셔츠/블라우스               오버사이즈 16골 에센셜 코듀로이 셔츠 블랙   \n",
              "1                상의          니트/스웨터             TD5-SW01 램스울 라운드 니트-만다린오렌지   \n",
              "2                상의          후드 티셔츠         [SET UP] PPP 플라워 후드 셋업_멜란지 그레이   \n",
              "3                상의          후드 티셔츠                TIE DYE 후드티 Olive Green   \n",
              "4                상의         긴소매 티셔츠   essential turtleneck logo top - pink   \n",
              "...             ...             ...                                    ...   \n",
              "4926            아우터     숏패딩/숏헤비 아우터                             다운 숏 푸퍼-블랙   \n",
              "4927            아우터          스포츠/용품         나일론 아노락 자켓 - 블랙 / 2033B427-001   \n",
              "4928            아우터          패딩 베스트            [MENS] 리버서블 패딩 조끼(10 color)   \n",
              "4929            아우터     숏패딩/숏헤비 아우터                        숏 미니멀 덕다운 패딩 블랙   \n",
              "4930            아우터          아노락 재킷  Pocket Tidy Hood Anorak H7 Navy/Green   \n",
              "\n",
              "                                    number  limit  exclusive  target_gender  \\\n",
              "0                               22FWGS28BK      1          0              2   \n",
              "1                             TD5-SW01_MAO      1          0              0   \n",
              "2     KBCS1TH003MGKBCS1PL003MGKBCS1PS003MG      1          0              2   \n",
              "3                             CTTZPHD01UG4      0          0              0   \n",
              "4                           BT23WTS002PIKF      1          0              1   \n",
              "...                                    ...    ...        ...            ...   \n",
              "4926                            P22FWOT001      0          0              2   \n",
              "4927                          2033B427-001      0          1              0   \n",
              "4928                           HBA-VT-M201      0          0              0   \n",
              "4929                                  3001      0          1              0   \n",
              "4930                                   409      1          0              2   \n",
              "\n",
              "      buy_gender        buy_age     view  like     price  discount_rate  \\\n",
              "0            0.0  ('29~33세', 0)   1200.0   493   39800.0             20   \n",
              "1            0.0  ('29~33세', 0)   4900.0   650   53550.0             10   \n",
              "2            1.0  ('19~23세', 0)   3600.0  2536   49900.0             49   \n",
              "3            0.0    ('40세~', 0)   1000.0   569   19800.0             80   \n",
              "4            1.0  ('24~28세', 0)  11000.0  2561   43000.0              0   \n",
              "...          ...            ...      ...   ...       ...            ...   \n",
              "4926         0.0  ('19~23세', 0)   2900.0   771  139000.0             43   \n",
              "4927         0.0  ('24~28세', 0)   2100.0  1275   87200.0             20   \n",
              "4928         0.0  ('34~39세', 0)   1400.0   198   38400.0             60   \n",
              "4929         0.0  ('29~33세', 0)   3300.0  2028  238400.0             20   \n",
              "4930         1.0  ('34~39세', 0)    400.0   368   53000.0             40   \n",
              "\n",
              "      delivery_date  rating  review    buy     score  buy_age1  buy_age2  \n",
              "0              19.0     4.6      36   50.0  0.976190         4         0  \n",
              "1               5.0     4.9      61  200.0  0.954545         4         0  \n",
              "2               5.0     4.8      41  150.0  1.000000         2         0  \n",
              "3               5.0     4.8      62  150.0  0.971429         6         0  \n",
              "4              28.0     4.8      34  100.0  0.964286         3         0  \n",
              "...             ...     ...     ...    ...       ...       ...       ...  \n",
              "4926            5.0     4.9      17   50.0  0.964286         2         0  \n",
              "4927            4.0     4.9     222  300.0  0.987500         3         0  \n",
              "4928            5.0     4.8      33  100.0  0.976190         5         0  \n",
              "4929            7.0     4.8      87  100.0  0.988095         4         0  \n",
              "4930            5.0     5.0      22   50.0  0.947368         5         0  \n",
              "\n",
              "[4931 rows x 20 columns]"
            ]
          },
          "execution_count": 3,
          "metadata": {},
          "output_type": "execute_result"
        }
      ],
      "source": [
        "df = pd.read_csv('./무신사_리뷰merge_전처리완료240122.csv', index_col=0)\n",
        "df"
      ]
    },
    {
      "cell_type": "markdown",
      "metadata": {
        "id": "uuYWP-J9xosk"
      },
      "source": [
        "### major_category, middle_category 변경"
      ]
    },
    {
      "cell_type": "code",
      "execution_count": null,
      "metadata": {
        "id": "QsBC5sWIxosn"
      },
      "outputs": [],
      "source": [
        "# 잘못 들어간 스포츠/용품을 바꾸기\n",
        "df.loc[df.middle_category == '하의', 'major_category'] = '바지'\n",
        "df.loc[df.middle_category == '하의','middle_category'] = '스포츠/용품'"
      ]
    },
    {
      "cell_type": "code",
      "execution_count": null,
      "metadata": {
        "id": "AnpSrvwcxosn",
        "outputId": "5f66de16-622a-4cea-cb00-fb74ac87ea0b"
      },
      "outputs": [
        {
          "data": {
            "text/plain": [
              "array(['바지', '상의', '아우터'], dtype=object)"
            ]
          },
          "execution_count": 5,
          "metadata": {},
          "output_type": "execute_result"
        }
      ],
      "source": [
        "from sklearn.preprocessing import LabelEncoder\n",
        "\n",
        "le = LabelEncoder() # LabelEncoder 함수를 불러오고 변수로 지정\n",
        "le.fit(df['major_category']) # LabelEncoder를 fit를 통하여 교육\n",
        "le.classes_ # le가 가져온 컬럼 데이터를 중복 없이 확인"
      ]
    },
    {
      "cell_type": "code",
      "execution_count": null,
      "metadata": {
        "id": "FbT4M93Txoso",
        "outputId": "e29a6d88-c7fd-4699-fb78-b93fe890568c"
      },
      "outputs": [
        {
          "data": {
            "text/plain": [
              "array([1, 1, 1, ..., 2, 2, 2])"
            ]
          },
          "execution_count": 6,
          "metadata": {},
          "output_type": "execute_result"
        }
      ],
      "source": [
        "le.transform(df['major_category'])\n",
        "# le.transform을 통하여 데이터프레임 컬럼의 문자를 숫자로 변환"
      ]
    },
    {
      "cell_type": "code",
      "execution_count": null,
      "metadata": {
        "id": "PbEySJ1axoso",
        "outputId": "0c870944-42f4-4739-a71a-5cb76a8c58a3"
      },
      "outputs": [
        {
          "data": {
            "text/plain": [
              "(array([1, 0, 2]), 3)"
            ]
          },
          "execution_count": 7,
          "metadata": {},
          "output_type": "execute_result"
        }
      ],
      "source": [
        "df['major_category'] = le.transform(df['major_category'])\n",
        "df['major_category'].unique(), len(df['major_category'].unique())"
      ]
    },
    {
      "cell_type": "code",
      "execution_count": null,
      "metadata": {
        "id": "iycWlDZIxoso",
        "outputId": "b52bdcb0-f87f-44c7-c1ea-121492f42483"
      },
      "outputs": [
        {
          "data": {
            "text/plain": [
              "(array([19,  8, 38,  6, 35,  4, 12, 25, 15, 14,  3,  9, 20, 32, 29, 22, 27,\n",
              "        34, 21, 33, 18, 17, 37,  7, 28,  5,  0,  2, 11, 26, 31, 24,  1, 10,\n",
              "        23, 13, 36, 16, 30]),\n",
              " 39)"
            ]
          },
          "execution_count": 8,
          "metadata": {},
          "output_type": "execute_result"
        }
      ],
      "source": [
        "le.fit(df['middle_category'])\n",
        "le.transform(df['middle_category'])\n",
        "df['middle_category'] = le.transform(df['middle_category'])\n",
        "df['middle_category'].unique(), len(df['middle_category'].unique())"
      ]
    },
    {
      "cell_type": "code",
      "execution_count": null,
      "metadata": {
        "id": "_z0NEeT3xoso"
      },
      "outputs": [],
      "source": [
        "df_copy = df.copy()"
      ]
    },
    {
      "cell_type": "markdown",
      "metadata": {
        "id": "jV40GCeTxosp"
      },
      "source": [
        "### 상관관계 재확인"
      ]
    },
    {
      "cell_type": "code",
      "execution_count": null,
      "metadata": {
        "id": "IMXCTB7Wxosp",
        "outputId": "d0818370-c6f9-42f3-dc9b-81697c77cb55"
      },
      "outputs": [
        {
          "data": {
            "text/plain": [
              "Index(['major_category', 'middle_category', 'name', 'number', 'limit',\n",
              "       'exclusive', 'target_gender', 'buy_gender', 'buy_age', 'view', 'like',\n",
              "       'price', 'discount_rate', 'delivery_date', 'rating', 'review', 'buy',\n",
              "       'score', 'buy_age1', 'buy_age2'],\n",
              "      dtype='object')"
            ]
          },
          "execution_count": 18,
          "metadata": {},
          "output_type": "execute_result"
        }
      ],
      "source": [
        "df_copy.columns"
      ]
    },
    {
      "cell_type": "code",
      "execution_count": null,
      "metadata": {
        "id": "ldJ3HmOqxosp"
      },
      "outputs": [],
      "source": [
        "df_copy = df_copy[['major_category', 'middle_category', 'limit', 'exclusive', 'target_gender',\n",
        "        'buy_age1', 'view', 'like', 'price', 'discount_rate', 'delivery_date', 'rating', 'score',\n",
        "        'review', 'buy']]"
      ]
    },
    {
      "cell_type": "code",
      "execution_count": null,
      "metadata": {
        "id": "TCBE9giexosq",
        "outputId": "f3797684-920b-4d21-aa1b-f33cbd070561"
      },
      "outputs": [
        {
          "name": "stderr",
          "output_type": "stream",
          "text": [
            "c:\\Users\\user\\miniconda3\\envs\\ds_study\\lib\\site-packages\\seaborn\\utils.py:80: UserWarning: Glyph 8722 (\\N{MINUS SIGN}) missing from current font.\n",
            "  fig.canvas.draw()\n"
          ]
        },
        {
          "data": {
            "text/plain": [
              "<Axes: >"
            ]
          },
          "execution_count": 20,
          "metadata": {},
          "output_type": "execute_result"
        },
        {
          "name": "stderr",
          "output_type": "stream",
          "text": [
            "c:\\Users\\user\\miniconda3\\envs\\ds_study\\lib\\site-packages\\IPython\\core\\events.py:89: UserWarning: Glyph 8722 (\\N{MINUS SIGN}) missing from current font.\n",
            "  func(*args, **kwargs)\n",
            "c:\\Users\\user\\miniconda3\\envs\\ds_study\\lib\\site-packages\\IPython\\core\\pylabtools.py:152: UserWarning: Glyph 8722 (\\N{MINUS SIGN}) missing from current font.\n",
            "  fig.canvas.print_figure(bytes_io, **kw)\n"
          ]
        },
        {
          "data": {
            "image/png": "[encoded data removed]",
            "text/plain": [
              "<Figure size 1000x1000 with 2 Axes>"
            ]
          },
          "metadata": {},
          "output_type": "display_data"
        }
      ],
      "source": [
        "import matplotlib.pyplot as plt\n",
        "import seaborn as sns\n",
        "%matplotlib inline\n",
        "import platform\n",
        "from matplotlib import font_manager, rc\n",
        "import numpy as np\n",
        "\n",
        "path = 'c:/Windows/Fonts/malgun.ttf'\n",
        "\n",
        "if platform.system() == 'Darwin':\n",
        "    rc('font', family = 'AppleGothic')\n",
        "elif platform.system() == 'Windows':\n",
        "    font_name = font_manager.FontProperties(fname = path).get_name()\n",
        "    rc('font', family = font_name)\n",
        "else:\n",
        "    print('Unlown system...sorry..')\n",
        "\n",
        "plt.figure(figsize=(10, 10))\n",
        "correlation_matrix = df_copy.corr(numeric_only=True).round(2)\n",
        "sns.heatmap(data = correlation_matrix, annot=True, cmap='bwr')"
      ]
    },
    {
      "cell_type": "markdown",
      "metadata": {
        "id": "HlJvNl2Vxosq"
      },
      "source": [
        "## 연속형 데이터만 머신러닝"
      ]
    },
    {
      "cell_type": "markdown",
      "metadata": {
        "id": "O_ATBN51xosq"
      },
      "source": [
        "### StandardScaler(표준화) 적용 후 데이터 나누기"
      ]
    },
    {
      "cell_type": "code",
      "execution_count": null,
      "metadata": {
        "id": "fC2wO61bxosq",
        "outputId": "ce0018c3-5d64-43f9-e4e6-53c4cf03a3b6"
      },
      "outputs": [
        {
          "data": {
            "text/plain": [
              "((4931, 14), (4931,))"
            ]
          },
          "execution_count": 21,
          "metadata": {},
          "output_type": "execute_result"
        }
      ],
      "source": [
        "X = df_copy.drop('buy', axis=1)\n",
        "y = df_copy['buy']\n",
        "\n",
        "X.shape, y.shape"
      ]
    },
    {
      "cell_type": "code",
      "execution_count": null,
      "metadata": {
        "id": "IarKUkpMxosq"
      },
      "outputs": [],
      "source": [
        "from sklearn.preprocessing import StandardScaler\n",
        "\n",
        "SS = StandardScaler()\n",
        "\n",
        "X_ss = SS.fit_transform(X)\n",
        "X_ss_pd = pd.DataFrame(X_ss, columns=X.columns)"
      ]
    },
    {
      "cell_type": "code",
      "execution_count": null,
      "metadata": {
        "id": "f59bIarZxosr"
      },
      "outputs": [],
      "source": [
        "from sklearn.model_selection import train_test_split\n",
        "\n",
        "X_train, X_test, y_train, y_test = train_test_split(X_ss_pd, y, test_size=0.2, random_state=13)"
      ]
    },
    {
      "cell_type": "markdown",
      "metadata": {
        "id": "t-j49UULxosr"
      },
      "source": [
        "### Ridge, Lasso\n",
        "- https://velog.io/@rlwjddl234/%EB%8B%A4%EC%A4%91-%ED%9A%8C%EA%B7%80 참고\n",
        "- 규제(regularization)는 머신러닝 모델이 훈련 셋을 너무 과도하게 학습하지 못하도록 훼방을 놓는 것을 말한다.\n",
        "- 즉 모델이 훈련 셋에 과대적합되지 않도록 만드는 것이다. 선형 회귀 모델의 경우 특성에 곱해지는 계수(또는 기울기)의 크기를 작게 만드는 것이다.\n",
        "- 이 규제를 적용한 회귀 모델이 Ridge, Lasso"
      ]
    },
    {
      "cell_type": "markdown",
      "metadata": {
        "id": "rM3O2htFxosr"
      },
      "source": [
        "### Ridge 모델 적용\n",
        "- 참고\n",
        "- https://signature95.tistory.com/46\n",
        "- https://velog.io/@jochedda/%EB%A8%B8%EC%8B%A0%EB%9F%AC%EB%8B%9D-%EB%A6%BF%EC%A7%80-%ED%9A%8C%EA%B7%80-Ridge-Regression"
      ]
    },
    {
      "cell_type": "code",
      "execution_count": null,
      "metadata": {
        "id": "f3Oxzbxyxosr",
        "outputId": "69f09a70-0949-4765-e6fe-624e83d89ba0"
      },
      "outputs": [
        {
          "name": "stdout",
          "output_type": "stream",
          "text": [
            "Ridge(alpha=100)\n"
          ]
        }
      ],
      "source": [
        "from sklearn.linear_model import Ridge\n",
        "from sklearn.model_selection import GridSearchCV\n",
        "\n",
        "ridge = Ridge()\n",
        "params = {'alpha' : [0.0001, 0.001, 0.01, 0.1, 1, 10, 100] }\n",
        "# alpha값이 크면 규제 강도가 세지므로 계수 값을 더 줄이고 조금 더 과소적합되도록 유도한다.\n",
        "# alpha값이 작으면 계수를 줄이는 역할이 줄어들고 선형 회귀 모델과 유사해지므로 과대적합될 가능성이 크다.\n",
        "gridsearch = GridSearchCV(ridge, param_grid = params)\n",
        "# 적절한 알파값을 찾기 위해 그리드 서치를 사용\n",
        "gridsearch.fit(X_train, y_train)\n",
        "\n",
        "r_ridge_estimator = gridsearch.best_estimator_\n",
        "r_y_train_pred = r_ridge_estimator.predict(X_train)\n",
        "r_y_test_pred = r_ridge_estimator.predict(X_test)\n",
        "\n",
        "print(r_ridge_estimator)"
      ]
    },
    {
      "cell_type": "code",
      "execution_count": null,
      "metadata": {
        "id": "OXonKhNFxosr",
        "outputId": "02692c8e-b281-4d19-97d9-e5667ef45047"
      },
      "outputs": [
        {
          "name": "stdout",
          "output_type": "stream",
          "text": [
            "train\n",
            "MAE : 586.3048572932903\n",
            "MSE : 7790824.694546801\n",
            "RMSE : 2791.204882223231\n",
            "R-Squared : 0.8184302623890649\n",
            "==================================================\n",
            "test\n",
            "MAE : 551.2054107933055\n",
            "MSE : 3081793.156028585\n",
            "RMSE : 1755.5036758801118\n",
            "R-Squared : 0.81927187722393\n"
          ]
        }
      ],
      "source": [
        "import numpy as np\n",
        "from sklearn.metrics import mean_squared_error, mean_absolute_error, r2_score\n",
        "\n",
        "train_mae = mean_absolute_error(y_train, r_y_train_pred)\n",
        "train_mse = mean_squared_error(y_train, r_y_train_pred)\n",
        "train_rmse = np.sqrt(mean_squared_error(y_train, r_y_train_pred))\n",
        "train_rsquared = r2_score(y_train, r_y_train_pred)\n",
        "\n",
        "test_mae = mean_absolute_error(y_test, r_y_test_pred)\n",
        "test_mse = mean_squared_error(y_test, r_y_test_pred)\n",
        "test_rmse = np.sqrt(mean_squared_error(y_test, r_y_test_pred))\n",
        "test_rsquared = r2_score(y_test, r_y_test_pred)\n",
        "\n",
        "print('train')\n",
        "print('MAE :', train_mae) # 모델의 예측값과 실제값 차이(Error) 를 절대값으로 변환하여 평균한 것\n",
        "print('MSE :', train_mse) # 모델의 예측값과 실제값 차이(Error)를 제곱한 뒤 평균을 구한 것\n",
        "print('RMSE :', train_rmse) # MSE에 루트는 씌워서 에러를 제곱해서 생기는 값의 왜곡이 줄어든다.\n",
        "# 세가지 모두 값이 작을 수록 좋은 모델\n",
        "print('R-Squared :', train_rsquared)\n",
        "print('='*50)\n",
        "print('test')\n",
        "print('MAE :', test_mae) # 모델의 예측값과 실제값 차이(Error) 를 절대값으로 변환하여 평균한 것\n",
        "print('MSE :', test_mse) # 모델의 예측값과 실제값 차이(Error)를 제곱한 뒤 평균을 구한 것\n",
        "print('RMSE :', test_rmse) # MSE에 루트는 씌워서 에러를 제곱해서 생기는 값의 왜곡이 줄어든다.\n",
        "# 세가지 모두 값이 작을 수록 좋은 모델\n",
        "print('R-Squared :', test_rsquared)"
      ]
    },
    {
      "cell_type": "markdown",
      "metadata": {
        "id": "USl8FHhVxoss"
      },
      "source": [
        "### Lasso 모델 적용"
      ]
    },
    {
      "cell_type": "code",
      "execution_count": null,
      "metadata": {
        "id": "ErpyyVVzxoss",
        "outputId": "3e59d2ad-f2f5-46c4-e056-f02f6cb52cba"
      },
      "outputs": [
        {
          "name": "stdout",
          "output_type": "stream",
          "text": [
            "Lasso(alpha=100)\n"
          ]
        }
      ],
      "source": [
        "from sklearn.linear_model import Lasso\n",
        "from sklearn.model_selection import GridSearchCV\n",
        "\n",
        "lasso = Lasso()\n",
        "params = {'alpha' : [0.0001, 0.001, 0.01, 0.1, 1, 10, 100] }\n",
        "# alpha값이 크면 규제 강도가 세지므로 계수 값을 더 줄이고 조금 더 과소적합되도록 유도한다.\n",
        "# alpha값이 작으면 계수를 줄이는 역할이 줄어들고 선형 회귀 모델과 유사해지므로 과대적합될 가능성이 크다.\n",
        "gridsearch = GridSearchCV(lasso, param_grid = params)\n",
        "# 적절한 알파값을 찾기 위해 그리드 서치를 사용\n",
        "gridsearch.fit(X_train, y_train)\n",
        "\n",
        "lasso_estimator = gridsearch.best_estimator_\n",
        "l_y_train_pred = lasso_estimator.predict(X_train)\n",
        "l_y_test_pred = lasso_estimator.predict(X_test)\n",
        "\n",
        "\n",
        "print(lasso_estimator)"
      ]
    },
    {
      "cell_type": "code",
      "execution_count": null,
      "metadata": {
        "id": "5Xo6_8jyxoss",
        "outputId": "64d95bd3-3780-4c07-d698-90fdab517b0d"
      },
      "outputs": [
        {
          "name": "stdout",
          "output_type": "stream",
          "text": [
            "train\n",
            "MAE : 532.8616913309409\n",
            "MSE : 7821468.046719802\n",
            "RMSE : 2796.6887647215594\n",
            "R-Squared : 0.8177161010991226\n",
            "==================================================\n",
            "test\n",
            "MAE : 499.3323977662091\n",
            "MSE : 2987673.5667927642\n",
            "RMSE : 1728.4888101439258\n",
            "R-Squared : 0.8247914094630648\n"
          ]
        }
      ],
      "source": [
        "train_mae = mean_absolute_error(y_train, l_y_train_pred)\n",
        "train_mse = mean_squared_error(y_train, l_y_train_pred)\n",
        "train_rmse = np.sqrt(mean_squared_error(y_train, l_y_train_pred))\n",
        "train_rsquared = r2_score(y_train, l_y_train_pred)\n",
        "\n",
        "test_mae = mean_absolute_error(y_test, l_y_test_pred)\n",
        "test_mse = mean_squared_error(y_test, l_y_test_pred)\n",
        "test_rmse = np.sqrt(mean_squared_error(y_test, l_y_test_pred))\n",
        "test_rsquared = r2_score(y_test, l_y_test_pred)\n",
        "\n",
        "print('train')\n",
        "print('MAE :', train_mae) # 모델의 예측값과 실제값 차이(Error) 를 절대값으로 변환하여 평균한 것\n",
        "print('MSE :', train_mse) # 모델의 예측값과 실제값 차이(Error)를 제곱한 뒤 평균을 구한 것\n",
        "print('RMSE :', train_rmse) # MSE에 루트는 씌워서 에러를 제곱해서 생기는 값의 왜곡이 줄어든다.\n",
        "# 세가지 모두 값이 작을 수록 좋은 모델\n",
        "print('R-Squared :', train_rsquared)\n",
        "print('='*50)\n",
        "print('test')\n",
        "print('MAE :', test_mae) # 모델의 예측값과 실제값 차이(Error) 를 절대값으로 변환하여 평균한 것\n",
        "print('MSE :', test_mse) # 모델의 예측값과 실제값 차이(Error)를 제곱한 뒤 평균을 구한 것\n",
        "print('RMSE :', test_rmse) # MSE에 루트는 씌워서 에러를 제곱해서 생기는 값의 왜곡이 줄어든다.\n",
        "# 세가지 모두 값이 작을 수록 좋은 모델\n",
        "print('R-Squared :', test_rsquared)"
      ]
    },
    {
      "cell_type": "markdown",
      "metadata": {
        "id": "c0i_ysfnxoss"
      },
      "source": [
        "### KFold 및 LGBM 모델 적용"
      ]
    },
    {
      "cell_type": "code",
      "execution_count": null,
      "metadata": {
        "id": "0zbqWVrFxoss",
        "outputId": "c9500ef0-a470-4d7b-e4a1-deda9f9f4057"
      },
      "outputs": [
        {
          "data": {
            "text/html": [
              "<div>\n",
              "<style scoped>\n",
              "    .dataframe tbody tr th:only-of-type {\n",
              "        vertical-align: middle;\n",
              "    }\n",
              "\n",
              "    .dataframe tbody tr th {\n",
              "        vertical-align: top;\n",
              "    }\n",
              "\n",
              "    .dataframe thead th {\n",
              "        text-align: right;\n",
              "    }\n",
              "</style>\n",
              "<table border=\"1\" class=\"dataframe\">\n",
              "  <thead>\n",
              "    <tr style=\"text-align: right;\">\n",
              "      <th></th>\n",
              "      <th>Fold</th>\n",
              "      <th>MAE</th>\n",
              "      <th>MSE</th>\n",
              "      <th>RMSE</th>\n",
              "      <th>R-Squared</th>\n",
              "    </tr>\n",
              "  </thead>\n",
              "  <tbody>\n",
              "    <tr>\n",
              "      <th>0</th>\n",
              "      <td>1</td>\n",
              "      <td>355.415496</td>\n",
              "      <td>5.208743e+06</td>\n",
              "      <td>2282.267104</td>\n",
              "      <td>0.694539</td>\n",
              "    </tr>\n",
              "    <tr>\n",
              "      <th>1</th>\n",
              "      <td>2</td>\n",
              "      <td>595.005693</td>\n",
              "      <td>1.031337e+07</td>\n",
              "      <td>3211.443598</td>\n",
              "      <td>0.754000</td>\n",
              "    </tr>\n",
              "    <tr>\n",
              "      <th>2</th>\n",
              "      <td>3</td>\n",
              "      <td>422.599678</td>\n",
              "      <td>1.447898e+07</td>\n",
              "      <td>3805.124866</td>\n",
              "      <td>0.743518</td>\n",
              "    </tr>\n",
              "    <tr>\n",
              "      <th>3</th>\n",
              "      <td>4</td>\n",
              "      <td>401.377585</td>\n",
              "      <td>2.617544e+06</td>\n",
              "      <td>1617.882690</td>\n",
              "      <td>0.858828</td>\n",
              "    </tr>\n",
              "    <tr>\n",
              "      <th>4</th>\n",
              "      <td>5</td>\n",
              "      <td>642.708734</td>\n",
              "      <td>1.353471e+07</td>\n",
              "      <td>3678.954801</td>\n",
              "      <td>0.752130</td>\n",
              "    </tr>\n",
              "  </tbody>\n",
              "</table>\n",
              "</div>"
            ],
            "text/plain": [
              "   Fold         MAE           MSE         RMSE  R-Squared\n",
              "0     1  355.415496  5.208743e+06  2282.267104   0.694539\n",
              "1     2  595.005693  1.031337e+07  3211.443598   0.754000\n",
              "2     3  422.599678  1.447898e+07  3805.124866   0.743518\n",
              "3     4  401.377585  2.617544e+06  1617.882690   0.858828\n",
              "4     5  642.708734  1.353471e+07  3678.954801   0.752130"
            ]
          },
          "execution_count": 28,
          "metadata": {},
          "output_type": "execute_result"
        }
      ],
      "source": [
        "from sklearn.model_selection import KFold\n",
        "from lightgbm import LGBMRegressor\n",
        "\n",
        "kfold = KFold(n_splits=5, shuffle=True, random_state=13)\n",
        "\n",
        "results = []\n",
        "\n",
        "for fold, (train_idx, validation_idx) in enumerate(kfold.split(X)):\n",
        "    X_train, X_validation = X.iloc[train_idx], X.iloc[validation_idx]\n",
        "    y_train, y_validation = y.iloc[train_idx], y.iloc[validation_idx]\n",
        "\n",
        "    lgbm = LGBMRegressor(verbose=-1, n_estimators = 400)\n",
        "    lgbm.fit(X_train, y_train)\n",
        "\n",
        "    lgbm_y_pred = lgbm.predict(X_validation)\n",
        "\n",
        "    mae = mean_absolute_error(y_validation, lgbm_y_pred)\n",
        "    mse = mean_squared_error(y_validation, lgbm_y_pred)\n",
        "    rmse = np.sqrt(mean_squared_error(y_validation, lgbm_y_pred))\n",
        "    rsquared = r2_score(y_validation, lgbm_y_pred)\n",
        "\n",
        "    fold_result = {\n",
        "        'Fold': fold + 1,\n",
        "        'MAE': mae,\n",
        "        'MSE': mse,\n",
        "        'RMSE': rmse,\n",
        "        'R-Squared': rsquared\n",
        "    }\n",
        "\n",
        "    results.append(fold_result)\n",
        "\n",
        "# 결과를 데이터프레임으로 변환\n",
        "results_df = pd.DataFrame(results)\n",
        "results_df"
      ]
    },
    {
      "cell_type": "code",
      "execution_count": null,
      "metadata": {
        "id": "5FblOwoHxost",
        "outputId": "3d62b607-7c99-4e3d-e848-6e2ff14e2e0b"
      },
      "outputs": [
        {
          "data": {
            "text/plain": [
              "MAE          4.834214e+02\n",
              "MSE          9.230668e+06\n",
              "RMSE         2.919135e+03\n",
              "R-Squared    7.606029e-01\n",
              "dtype: float64"
            ]
          },
          "execution_count": 29,
          "metadata": {},
          "output_type": "execute_result"
        }
      ],
      "source": [
        "# 학습용 데이터의 전체 폴드 평균 계산\n",
        "average_result = results_df[['MAE', 'MSE', 'RMSE', 'R-Squared']].mean()\n",
        "average_result"
      ]
    },
    {
      "cell_type": "code",
      "execution_count": null,
      "metadata": {
        "id": "cGkwvq-uxost",
        "outputId": "ebeb541a-19c5-4420-eef4-23d60fa9b254"
      },
      "outputs": [
        {
          "name": "stdout",
          "output_type": "stream",
          "text": [
            "MAE : 1480.3045687439064\n",
            "MSE : 16930996.972155496\n",
            "RMSE : 4114.729270821532\n",
            "R-Squared : 0.0071016630304291395\n"
          ]
        }
      ],
      "source": [
        "lgbm_y_pred_test = lgbm.predict(X_test)\n",
        "\n",
        "mae = mean_absolute_error(y_test, lgbm_y_pred_test)\n",
        "mse = mean_squared_error(y_test, lgbm_y_pred_test)\n",
        "rmse = np.sqrt(mean_squared_error(y_test, lgbm_y_pred_test))\n",
        "rsquared = r2_score(y_test, lgbm_y_pred_test)\n",
        "\n",
        "print('MAE :', mae) # 모델의 예측값과 실제값 차이(Error) 를 절대값으로 변환하여 평균한 것\n",
        "print('MSE :', mse) # 모델의 예측값과 실제값 차이(Error)를 제곱한 뒤 평균을 구한 것\n",
        "print('RMSE :', rmse) # MSE에 루트는 씌워서 에러를 제곱해서 생기는 값의 왜곡이 줄어든다.\n",
        "# 세가지 모두 값이 작을 수록 좋은 모델\n",
        "print('R-Squared :', rsquared)"
      ]
    },
    {
      "cell_type": "markdown",
      "metadata": {
        "id": "cQxK6NlGxost"
      },
      "source": [
        "### KFold 및 XGBRegressor 모델 적용"
      ]
    },
    {
      "cell_type": "code",
      "execution_count": null,
      "metadata": {
        "id": "6E-0LYnyxost",
        "outputId": "4a418e2c-9a7f-46ca-8229-6a360c4c970e"
      },
      "outputs": [
        {
          "data": {
            "text/html": [
              "<div>\n",
              "<style scoped>\n",
              "    .dataframe tbody tr th:only-of-type {\n",
              "        vertical-align: middle;\n",
              "    }\n",
              "\n",
              "    .dataframe tbody tr th {\n",
              "        vertical-align: top;\n",
              "    }\n",
              "\n",
              "    .dataframe thead th {\n",
              "        text-align: right;\n",
              "    }\n",
              "</style>\n",
              "<table border=\"1\" class=\"dataframe\">\n",
              "  <thead>\n",
              "    <tr style=\"text-align: right;\">\n",
              "      <th></th>\n",
              "      <th>Fold</th>\n",
              "      <th>MAE</th>\n",
              "      <th>MSE</th>\n",
              "      <th>RMSE</th>\n",
              "      <th>R-Squared</th>\n",
              "    </tr>\n",
              "  </thead>\n",
              "  <tbody>\n",
              "    <tr>\n",
              "      <th>0</th>\n",
              "      <td>1</td>\n",
              "      <td>424.115129</td>\n",
              "      <td>1.616819e+07</td>\n",
              "      <td>4020.968884</td>\n",
              "      <td>0.051836</td>\n",
              "    </tr>\n",
              "    <tr>\n",
              "      <th>1</th>\n",
              "      <td>2</td>\n",
              "      <td>480.471000</td>\n",
              "      <td>6.638812e+06</td>\n",
              "      <td>2576.589277</td>\n",
              "      <td>0.841647</td>\n",
              "    </tr>\n",
              "    <tr>\n",
              "      <th>2</th>\n",
              "      <td>3</td>\n",
              "      <td>439.168617</td>\n",
              "      <td>1.998658e+07</td>\n",
              "      <td>4470.635780</td>\n",
              "      <td>0.645956</td>\n",
              "    </tr>\n",
              "    <tr>\n",
              "      <th>3</th>\n",
              "      <td>4</td>\n",
              "      <td>311.786086</td>\n",
              "      <td>2.144593e+06</td>\n",
              "      <td>1464.442728</td>\n",
              "      <td>0.884335</td>\n",
              "    </tr>\n",
              "    <tr>\n",
              "      <th>4</th>\n",
              "      <td>5</td>\n",
              "      <td>529.789065</td>\n",
              "      <td>1.268948e+07</td>\n",
              "      <td>3562.229663</td>\n",
              "      <td>0.767609</td>\n",
              "    </tr>\n",
              "  </tbody>\n",
              "</table>\n",
              "</div>"
            ],
            "text/plain": [
              "   Fold         MAE           MSE         RMSE  R-Squared\n",
              "0     1  424.115129  1.616819e+07  4020.968884   0.051836\n",
              "1     2  480.471000  6.638812e+06  2576.589277   0.841647\n",
              "2     3  439.168617  1.998658e+07  4470.635780   0.645956\n",
              "3     4  311.786086  2.144593e+06  1464.442728   0.884335\n",
              "4     5  529.789065  1.268948e+07  3562.229663   0.767609"
            ]
          },
          "execution_count": 31,
          "metadata": {},
          "output_type": "execute_result"
        }
      ],
      "source": [
        "from xgboost import XGBRegressor\n",
        "\n",
        "kfold = KFold(n_splits=5, shuffle=True, random_state=13)\n",
        "\n",
        "results = []\n",
        "\n",
        "for fold, (train_idx, validation_idx) in enumerate(kfold.split(X)):\n",
        "    X_train, X_validation = X.iloc[train_idx], X.iloc[validation_idx]\n",
        "    y_train, y_validation = y.iloc[train_idx], y.iloc[validation_idx]\n",
        "\n",
        "    xgb_regerssor = XGBRegressor(n_estimators = 400)\n",
        "    xgb_regerssor.fit(X_train, y_train)\n",
        "\n",
        "    xgb_y_pred = xgb_regerssor.predict(X_validation)\n",
        "\n",
        "    mae = mean_absolute_error(y_validation, xgb_y_pred)\n",
        "    mse = mean_squared_error(y_validation, xgb_y_pred)\n",
        "    rmse = np.sqrt(mean_squared_error(y_validation, xgb_y_pred))\n",
        "    rsquared = r2_score(y_validation, xgb_y_pred)\n",
        "\n",
        "    fold_result = {\n",
        "        'Fold': fold + 1,\n",
        "        'MAE': mae,\n",
        "        'MSE': mse,\n",
        "        'RMSE': rmse,\n",
        "        'R-Squared': rsquared\n",
        "    }\n",
        "\n",
        "    results.append(fold_result)\n",
        "\n",
        "# 결과를 데이터프레임으로 변환\n",
        "results_df = pd.DataFrame(results)\n",
        "results_df"
      ]
    },
    {
      "cell_type": "code",
      "execution_count": null,
      "metadata": {
        "id": "7LD5MoH6xost",
        "outputId": "e072d590-fe01-485d-e445-62b3c37ff502"
      },
      "outputs": [
        {
          "data": {
            "text/plain": [
              "MAE          4.370660e+02\n",
              "MSE          1.152553e+07\n",
              "RMSE         3.218973e+03\n",
              "R-Squared    6.382766e-01\n",
              "dtype: float64"
            ]
          },
          "execution_count": 32,
          "metadata": {},
          "output_type": "execute_result"
        }
      ],
      "source": [
        "# 학습용 데이터의 전체 폴드 평균 계산\n",
        "average_result = results_df[['MAE', 'MSE', 'RMSE', 'R-Squared']].mean()\n",
        "average_result"
      ]
    },
    {
      "cell_type": "code",
      "execution_count": null,
      "metadata": {
        "id": "jkqWVO0lxosu",
        "outputId": "88f8fc89-3531-4392-91cf-de670ce8bda0"
      },
      "outputs": [
        {
          "name": "stdout",
          "output_type": "stream",
          "text": [
            "MAE : 1038.472182943466\n",
            "MSE : 18133874.001767613\n",
            "RMSE : 4258.388662600869\n",
            "R-Squared : -0.06343964084228149\n"
          ]
        }
      ],
      "source": [
        "xgb_y_pred_test = xgb_regerssor.predict(X_test)\n",
        "\n",
        "mae = mean_absolute_error(y_test, xgb_y_pred_test)\n",
        "mse = mean_squared_error(y_test, xgb_y_pred_test)\n",
        "rmse = np.sqrt(mean_squared_error(y_test, xgb_y_pred_test))\n",
        "rsquared = r2_score(y_test, xgb_y_pred_test)\n",
        "\n",
        "print('MAE :', mae) # 모델의 예측값과 실제값 차이(Error) 를 절대값으로 변환하여 평균한 것\n",
        "print('MSE :', mse) # 모델의 예측값과 실제값 차이(Error)를 제곱한 뒤 평균을 구한 것\n",
        "print('RMSE :', rmse) # MSE에 루트는 씌워서 에러를 제곱해서 생기는 값의 왜곡이 줄어든다.\n",
        "# 세가지 모두 값이 작을 수록 좋은 모델\n",
        "print('R-Squared :', rsquared)"
      ]
    },
    {
      "cell_type": "markdown",
      "metadata": {
        "id": "gGs2nsUvxosu"
      },
      "source": [
        "## EDA에서 상관관계를 가졌던 연속형 데이터만 추출"
      ]
    },
    {
      "cell_type": "code",
      "execution_count": null,
      "metadata": {
        "id": "uj5TMlMmxosu",
        "outputId": "ddc1e45c-2507-4ca6-c205-df23434c17eb"
      },
      "outputs": [
        {
          "data": {
            "text/html": [
              "<div>\n",
              "<style scoped>\n",
              "    .dataframe tbody tr th:only-of-type {\n",
              "        vertical-align: middle;\n",
              "    }\n",
              "\n",
              "    .dataframe tbody tr th {\n",
              "        vertical-align: top;\n",
              "    }\n",
              "\n",
              "    .dataframe thead th {\n",
              "        text-align: right;\n",
              "    }\n",
              "</style>\n",
              "<table border=\"1\" class=\"dataframe\">\n",
              "  <thead>\n",
              "    <tr style=\"text-align: right;\">\n",
              "      <th></th>\n",
              "      <th>view</th>\n",
              "      <th>like</th>\n",
              "      <th>review</th>\n",
              "      <th>buy</th>\n",
              "    </tr>\n",
              "  </thead>\n",
              "  <tbody>\n",
              "    <tr>\n",
              "      <th>0</th>\n",
              "      <td>1200.0</td>\n",
              "      <td>493</td>\n",
              "      <td>36</td>\n",
              "      <td>50.0</td>\n",
              "    </tr>\n",
              "    <tr>\n",
              "      <th>1</th>\n",
              "      <td>4900.0</td>\n",
              "      <td>650</td>\n",
              "      <td>61</td>\n",
              "      <td>200.0</td>\n",
              "    </tr>\n",
              "    <tr>\n",
              "      <th>2</th>\n",
              "      <td>3600.0</td>\n",
              "      <td>2536</td>\n",
              "      <td>41</td>\n",
              "      <td>150.0</td>\n",
              "    </tr>\n",
              "    <tr>\n",
              "      <th>3</th>\n",
              "      <td>1000.0</td>\n",
              "      <td>569</td>\n",
              "      <td>62</td>\n",
              "      <td>150.0</td>\n",
              "    </tr>\n",
              "    <tr>\n",
              "      <th>4</th>\n",
              "      <td>11000.0</td>\n",
              "      <td>2561</td>\n",
              "      <td>34</td>\n",
              "      <td>100.0</td>\n",
              "    </tr>\n",
              "    <tr>\n",
              "      <th>...</th>\n",
              "      <td>...</td>\n",
              "      <td>...</td>\n",
              "      <td>...</td>\n",
              "      <td>...</td>\n",
              "    </tr>\n",
              "    <tr>\n",
              "      <th>4926</th>\n",
              "      <td>2900.0</td>\n",
              "      <td>771</td>\n",
              "      <td>17</td>\n",
              "      <td>50.0</td>\n",
              "    </tr>\n",
              "    <tr>\n",
              "      <th>4927</th>\n",
              "      <td>2100.0</td>\n",
              "      <td>1275</td>\n",
              "      <td>222</td>\n",
              "      <td>300.0</td>\n",
              "    </tr>\n",
              "    <tr>\n",
              "      <th>4928</th>\n",
              "      <td>1400.0</td>\n",
              "      <td>198</td>\n",
              "      <td>33</td>\n",
              "      <td>100.0</td>\n",
              "    </tr>\n",
              "    <tr>\n",
              "      <th>4929</th>\n",
              "      <td>3300.0</td>\n",
              "      <td>2028</td>\n",
              "      <td>87</td>\n",
              "      <td>100.0</td>\n",
              "    </tr>\n",
              "    <tr>\n",
              "      <th>4930</th>\n",
              "      <td>400.0</td>\n",
              "      <td>368</td>\n",
              "      <td>22</td>\n",
              "      <td>50.0</td>\n",
              "    </tr>\n",
              "  </tbody>\n",
              "</table>\n",
              "<p>4931 rows × 4 columns</p>\n",
              "</div>"
            ],
            "text/plain": [
              "         view  like  review    buy\n",
              "0      1200.0   493      36   50.0\n",
              "1      4900.0   650      61  200.0\n",
              "2      3600.0  2536      41  150.0\n",
              "3      1000.0   569      62  150.0\n",
              "4     11000.0  2561      34  100.0\n",
              "...       ...   ...     ...    ...\n",
              "4926   2900.0   771      17   50.0\n",
              "4927   2100.0  1275     222  300.0\n",
              "4928   1400.0   198      33  100.0\n",
              "4929   3300.0  2028      87  100.0\n",
              "4930    400.0   368      22   50.0\n",
              "\n",
              "[4931 rows x 4 columns]"
            ]
          },
          "execution_count": 34,
          "metadata": {},
          "output_type": "execute_result"
        }
      ],
      "source": [
        "df_copy_corr = df_copy[['view', 'like', 'review', 'buy']]\n",
        "df_copy_corr"
      ]
    },
    {
      "cell_type": "markdown",
      "metadata": {
        "id": "zcNQ9DFkxosu"
      },
      "source": [
        "### StandardScaler(표준화) 적용 후 데이터 나누기"
      ]
    },
    {
      "cell_type": "code",
      "execution_count": null,
      "metadata": {
        "id": "EN4qzh3gxosv",
        "outputId": "0b6c5b87-f826-482e-de2e-b2659d1cfc1b"
      },
      "outputs": [
        {
          "data": {
            "text/plain": [
              "((4931, 3), (4931,))"
            ]
          },
          "execution_count": 35,
          "metadata": {},
          "output_type": "execute_result"
        }
      ],
      "source": [
        "X = df_copy_corr.drop('buy', axis=1)\n",
        "y = df_copy_corr['buy']\n",
        "\n",
        "X.shape, y.shape"
      ]
    },
    {
      "cell_type": "code",
      "execution_count": null,
      "metadata": {
        "id": "Ym-zqlrtxosv"
      },
      "outputs": [],
      "source": [
        "from sklearn.preprocessing import StandardScaler\n",
        "\n",
        "SS = StandardScaler()\n",
        "\n",
        "X_ss = SS.fit_transform(X)\n",
        "X_ss_pd = pd.DataFrame(X_ss, columns=X.columns)"
      ]
    },
    {
      "cell_type": "code",
      "execution_count": null,
      "metadata": {
        "id": "rzB8rGQNxosv"
      },
      "outputs": [],
      "source": [
        "from sklearn.model_selection import train_test_split\n",
        "\n",
        "X_train, X_test, y_train, y_test = train_test_split(X_ss_pd, y, test_size=0.2, random_state=13)"
      ]
    },
    {
      "cell_type": "markdown",
      "metadata": {
        "id": "tqCuYV9exos0"
      },
      "source": [
        "### Ridge 모델 적용"
      ]
    },
    {
      "cell_type": "code",
      "execution_count": null,
      "metadata": {
        "id": "Jsob_GhUxos0",
        "outputId": "faad305a-7b5e-427c-fbac-3efee8c687e0"
      },
      "outputs": [
        {
          "name": "stdout",
          "output_type": "stream",
          "text": [
            "Ridge(alpha=100)\n"
          ]
        }
      ],
      "source": [
        "from sklearn.linear_model import Ridge\n",
        "from sklearn.model_selection import GridSearchCV\n",
        "\n",
        "ridge = Ridge()\n",
        "params = {'alpha' : [0.0001, 0.001, 0.01, 0.1, 1, 10, 100] }\n",
        "gridsearch = GridSearchCV(ridge, param_grid = params)\n",
        "# 적절한 알파값을 찾기 위해 그리드 서치를 사용\n",
        "gridsearch.fit(X_train, y_train)\n",
        "\n",
        "r_ridge_estimator = gridsearch.best_estimator_\n",
        "r_y_train_pred = r_ridge_estimator.predict(X_train)\n",
        "r_y_test_pred = r_ridge_estimator.predict(X_test)\n",
        "\n",
        "print(gridsearch.best_estimator_)"
      ]
    },
    {
      "cell_type": "code",
      "execution_count": null,
      "metadata": {
        "id": "3DVtx0Xwxos0",
        "outputId": "81b02b51-88cb-4f74-8b4f-ad4ea3e5681d"
      },
      "outputs": [
        {
          "name": "stdout",
          "output_type": "stream",
          "text": [
            "train\n",
            "MAE : 533.7925999537798\n",
            "MSE : 7844584.865188178\n",
            "RMSE : 2800.8186062628506\n",
            "R-Squared : 0.8171773500903057\n",
            "==================================================\n",
            "test\n",
            "MAE : 498.20317805229104\n",
            "MSE : 3059689.1776001677\n",
            "RMSE : 1749.1967235277361\n",
            "R-Squared : 0.8205681389537077\n"
          ]
        }
      ],
      "source": [
        "train_mae = mean_absolute_error(y_train, r_y_train_pred)\n",
        "train_mse = mean_squared_error(y_train, r_y_train_pred)\n",
        "train_rmse = np.sqrt(mean_squared_error(y_train, r_y_train_pred))\n",
        "train_rsquared = r2_score(y_train, r_y_train_pred)\n",
        "\n",
        "test_mae = mean_absolute_error(y_test, r_y_test_pred)\n",
        "test_mse = mean_squared_error(y_test, r_y_test_pred)\n",
        "test_rmse = np.sqrt(mean_squared_error(y_test, r_y_test_pred))\n",
        "test_rsquared = r2_score(y_test, r_y_test_pred)\n",
        "\n",
        "print('train')\n",
        "print('MAE :', train_mae) # 모델의 예측값과 실제값 차이(Error) 를 절대값으로 변환하여 평균한 것\n",
        "print('MSE :', train_mse) # 모델의 예측값과 실제값 차이(Error)를 제곱한 뒤 평균을 구한 것\n",
        "print('RMSE :', train_rmse) # MSE에 루트는 씌워서 에러를 제곱해서 생기는 값의 왜곡이 줄어든다.\n",
        "# 세가지 모두 값이 작을 수록 좋은 모델\n",
        "print('R-Squared :', train_rsquared)\n",
        "print('='*50)\n",
        "print('test')\n",
        "print('MAE :', test_mae) # 모델의 예측값과 실제값 차이(Error) 를 절대값으로 변환하여 평균한 것\n",
        "print('MSE :', test_mse) # 모델의 예측값과 실제값 차이(Error)를 제곱한 뒤 평균을 구한 것\n",
        "print('RMSE :', test_rmse) # MSE에 루트는 씌워서 에러를 제곱해서 생기는 값의 왜곡이 줄어든다.\n",
        "# 세가지 모두 값이 작을 수록 좋은 모델\n",
        "print('R-Squared :', test_rsquared)"
      ]
    },
    {
      "cell_type": "markdown",
      "metadata": {
        "id": "X6EYbM0Vxos0"
      },
      "source": [
        "### Lasso 모델 적용"
      ]
    },
    {
      "cell_type": "code",
      "execution_count": null,
      "metadata": {
        "id": "Jjya8lTExos0",
        "outputId": "8b5b1486-44f2-4739-b2b5-6379d44a7f03"
      },
      "outputs": [
        {
          "name": "stdout",
          "output_type": "stream",
          "text": [
            "Lasso(alpha=100)\n"
          ]
        }
      ],
      "source": [
        "from sklearn.linear_model import Lasso\n",
        "from sklearn.model_selection import GridSearchCV\n",
        "\n",
        "lasso = Lasso()\n",
        "params = {'alpha' : [0.0001, 0.001, 0.01, 0.1, 1, 10, 100] }\n",
        "gridsearch = GridSearchCV(lasso, param_grid = params)\n",
        "# 적절한 알파값을 찾기 위해 그리드 서치를 사용\n",
        "gridsearch.fit(X_train, y_train)\n",
        "\n",
        "lasso_estimator = gridsearch.best_estimator_\n",
        "l_y_train_pred = lasso_estimator.predict(X_train)\n",
        "l_y_test_pred = lasso_estimator.predict(X_test)\n",
        "\n",
        "\n",
        "print(gridsearch.best_estimator_)"
      ]
    },
    {
      "cell_type": "code",
      "execution_count": null,
      "metadata": {
        "id": "VoGHszOxxos1",
        "outputId": "8a12d92e-78e2-4cbf-f034-367e65f3b5df"
      },
      "outputs": [
        {
          "name": "stdout",
          "output_type": "stream",
          "text": [
            "train\n",
            "MAE : 536.900185974457\n",
            "MSE : 7837098.655672089\n",
            "RMSE : 2799.4818548567323\n",
            "R-Squared : 0.8173518205925734\n",
            "==================================================\n",
            "test\n",
            "MAE : 501.0305647601585\n",
            "MSE : 3006996.8121060515\n",
            "RMSE : 1734.0694369332653\n",
            "R-Squared : 0.8236582205452492\n"
          ]
        }
      ],
      "source": [
        "train_mae = mean_absolute_error(y_train, l_y_train_pred)\n",
        "train_mse = mean_squared_error(y_train, l_y_train_pred)\n",
        "train_rmse = np.sqrt(mean_squared_error(y_train, l_y_train_pred))\n",
        "train_rsquared = r2_score(y_train, l_y_train_pred)\n",
        "\n",
        "test_mae = mean_absolute_error(y_test, l_y_test_pred)\n",
        "test_mse = mean_squared_error(y_test, l_y_test_pred)\n",
        "test_rmse = np.sqrt(mean_squared_error(y_test, l_y_test_pred))\n",
        "test_rsquared = r2_score(y_test, l_y_test_pred)\n",
        "\n",
        "print('train')\n",
        "print('MAE :', train_mae) # 모델의 예측값과 실제값 차이(Error) 를 절대값으로 변환하여 평균한 것\n",
        "print('MSE :', train_mse) # 모델의 예측값과 실제값 차이(Error)를 제곱한 뒤 평균을 구한 것\n",
        "print('RMSE :', train_rmse) # MSE에 루트는 씌워서 에러를 제곱해서 생기는 값의 왜곡이 줄어든다.\n",
        "# 세가지 모두 값이 작을 수록 좋은 모델\n",
        "print('R-Squared :', train_rsquared)\n",
        "print('='*50)\n",
        "print('test')\n",
        "print('MAE :', test_mae) # 모델의 예측값과 실제값 차이(Error) 를 절대값으로 변환하여 평균한 것\n",
        "print('MSE :', test_mse) # 모델의 예측값과 실제값 차이(Error)를 제곱한 뒤 평균을 구한 것\n",
        "print('RMSE :', test_rmse) # MSE에 루트는 씌워서 에러를 제곱해서 생기는 값의 왜곡이 줄어든다.\n",
        "# 세가지 모두 값이 작을 수록 좋은 모델\n",
        "print('R-Squared :', test_rsquared)"
      ]
    },
    {
      "cell_type": "markdown",
      "metadata": {
        "id": "L8O-Xz1yxos1"
      },
      "source": [
        "### KFold 및 LGBMRegressor 모델 적용"
      ]
    },
    {
      "cell_type": "code",
      "execution_count": null,
      "metadata": {
        "id": "U-R1Tx03xos1",
        "outputId": "2c6a2e04-c7f1-4c1e-dc7f-9370dd8c4a59"
      },
      "outputs": [
        {
          "data": {
            "text/html": [
              "<div>\n",
              "<style scoped>\n",
              "    .dataframe tbody tr th:only-of-type {\n",
              "        vertical-align: middle;\n",
              "    }\n",
              "\n",
              "    .dataframe tbody tr th {\n",
              "        vertical-align: top;\n",
              "    }\n",
              "\n",
              "    .dataframe thead th {\n",
              "        text-align: right;\n",
              "    }\n",
              "</style>\n",
              "<table border=\"1\" class=\"dataframe\">\n",
              "  <thead>\n",
              "    <tr style=\"text-align: right;\">\n",
              "      <th></th>\n",
              "      <th>Fold</th>\n",
              "      <th>MAE</th>\n",
              "      <th>MSE</th>\n",
              "      <th>RMSE</th>\n",
              "      <th>R-Squared</th>\n",
              "    </tr>\n",
              "  </thead>\n",
              "  <tbody>\n",
              "    <tr>\n",
              "      <th>0</th>\n",
              "      <td>1</td>\n",
              "      <td>437.095074</td>\n",
              "      <td>7.259264e+06</td>\n",
              "      <td>2694.302087</td>\n",
              "      <td>0.574289</td>\n",
              "    </tr>\n",
              "    <tr>\n",
              "      <th>1</th>\n",
              "      <td>2</td>\n",
              "      <td>648.453995</td>\n",
              "      <td>1.071982e+07</td>\n",
              "      <td>3274.114254</td>\n",
              "      <td>0.744305</td>\n",
              "    </tr>\n",
              "    <tr>\n",
              "      <th>2</th>\n",
              "      <td>3</td>\n",
              "      <td>475.611087</td>\n",
              "      <td>1.405447e+07</td>\n",
              "      <td>3748.929210</td>\n",
              "      <td>0.751038</td>\n",
              "    </tr>\n",
              "    <tr>\n",
              "      <th>3</th>\n",
              "      <td>4</td>\n",
              "      <td>435.553309</td>\n",
              "      <td>4.251128e+06</td>\n",
              "      <td>2061.826447</td>\n",
              "      <td>0.770723</td>\n",
              "    </tr>\n",
              "    <tr>\n",
              "      <th>4</th>\n",
              "      <td>5</td>\n",
              "      <td>679.305188</td>\n",
              "      <td>1.644944e+07</td>\n",
              "      <td>4055.790813</td>\n",
              "      <td>0.698750</td>\n",
              "    </tr>\n",
              "  </tbody>\n",
              "</table>\n",
              "</div>"
            ],
            "text/plain": [
              "   Fold         MAE           MSE         RMSE  R-Squared\n",
              "0     1  437.095074  7.259264e+06  2694.302087   0.574289\n",
              "1     2  648.453995  1.071982e+07  3274.114254   0.744305\n",
              "2     3  475.611087  1.405447e+07  3748.929210   0.751038\n",
              "3     4  435.553309  4.251128e+06  2061.826447   0.770723\n",
              "4     5  679.305188  1.644944e+07  4055.790813   0.698750"
            ]
          },
          "execution_count": 57,
          "metadata": {},
          "output_type": "execute_result"
        }
      ],
      "source": [
        "from sklearn.model_selection import KFold\n",
        "from lightgbm import LGBMRegressor\n",
        "\n",
        "kfold = KFold(n_splits=5, shuffle=True, random_state=13)\n",
        "\n",
        "results = []\n",
        "\n",
        "for fold, (train_idx, validation_idx) in enumerate(kfold.split(X)):\n",
        "    X_train, X_validation = X.iloc[train_idx], X.iloc[validation_idx]\n",
        "    y_train, y_validation = y.iloc[train_idx], y.iloc[validation_idx]\n",
        "\n",
        "    lgbm = LGBMRegressor(verbose=-1, n_estimators = 400)\n",
        "    lgbm.fit(X_train, y_train)\n",
        "\n",
        "    lgbm_y_pred = lgbm.predict(X_validation)\n",
        "\n",
        "    mae = mean_absolute_error(y_validation, lgbm_y_pred)\n",
        "    mse = mean_squared_error(y_validation, lgbm_y_pred)\n",
        "    rmse = np.sqrt(mean_squared_error(y_validation, lgbm_y_pred))\n",
        "    rsquared = r2_score(y_validation, lgbm_y_pred)\n",
        "\n",
        "    fold_result = {\n",
        "        'Fold': fold + 1,\n",
        "        'MAE': mae,\n",
        "        'MSE': mse,\n",
        "        'RMSE': rmse,\n",
        "        'R-Squared': rsquared\n",
        "    }\n",
        "\n",
        "    results.append(fold_result)\n",
        "\n",
        "# 결과를 데이터프레임으로 변환\n",
        "results_df = pd.DataFrame(results)\n",
        "results_df"
      ]
    },
    {
      "cell_type": "code",
      "execution_count": null,
      "metadata": {
        "id": "ie5VgeG4xos1",
        "outputId": "260b24eb-d0b0-422e-b286-2417b8a37d84"
      },
      "outputs": [
        {
          "data": {
            "text/plain": [
              "MAE          5.352037e+02\n",
              "MSE          1.054683e+07\n",
              "RMSE         3.166993e+03\n",
              "R-Squared    7.078210e-01\n",
              "dtype: float64"
            ]
          },
          "execution_count": 58,
          "metadata": {},
          "output_type": "execute_result"
        }
      ],
      "source": [
        "# 학습용 데이터의 전체 폴드 평균 계산\n",
        "average_result = results_df[['MAE', 'MSE', 'RMSE', 'R-Squared']].mean()\n",
        "average_result"
      ]
    },
    {
      "cell_type": "markdown",
      "metadata": {
        "id": "6qyvKwFTxos1"
      },
      "source": [
        "### LGBM TEST 데이터 적용"
      ]
    },
    {
      "cell_type": "code",
      "execution_count": null,
      "metadata": {
        "id": "ma-nCae2xos1",
        "outputId": "126131ed-0c62-4902-db9a-a0ff7f6c0dd9"
      },
      "outputs": [
        {
          "name": "stdout",
          "output_type": "stream",
          "text": [
            "MAE : 1033.3872874075669\n",
            "MSE : 18119689.734200485\n",
            "RMSE : 4256.7228867052745\n",
            "R-Squared : -0.06260782120982333\n"
          ]
        }
      ],
      "source": [
        "lgbm_y_pred_test = lgbm.predict(X_test)\n",
        "\n",
        "mae = mean_absolute_error(y_test, lgbm_y_pred_test)\n",
        "mse = mean_squared_error(y_test, lgbm_y_pred_test)\n",
        "rmse = np.sqrt(mean_squared_error(y_test, lgbm_y_pred_test))\n",
        "rsquared = r2_score(y_test, lgbm_y_pred_test)\n",
        "\n",
        "print('MAE :', mae) # 모델의 예측값과 실제값 차이(Error) 를 절대값으로 변환하여 평균한 것\n",
        "print('MSE :', mse) # 모델의 예측값과 실제값 차이(Error)를 제곱한 뒤 평균을 구한 것\n",
        "print('RMSE :', rmse) # MSE에 루트는 씌워서 에러를 제곱해서 생기는 값의 왜곡이 줄어든다.\n",
        "# 세가지 모두 값이 작을 수록 좋은 모델\n",
        "print('R-Squared :', rsquared)"
      ]
    },
    {
      "cell_type": "markdown",
      "metadata": {
        "id": "HbjE_HpWxos2"
      },
      "source": [
        "### KFold 및 XGBRegressor 모델 적용"
      ]
    },
    {
      "cell_type": "code",
      "execution_count": null,
      "metadata": {
        "id": "Eu-w8oSixos2",
        "outputId": "aeb29980-33d0-416f-cede-1d01e6967330"
      },
      "outputs": [
        {
          "data": {
            "text/html": [
              "<div>\n",
              "<style scoped>\n",
              "    .dataframe tbody tr th:only-of-type {\n",
              "        vertical-align: middle;\n",
              "    }\n",
              "\n",
              "    .dataframe tbody tr th {\n",
              "        vertical-align: top;\n",
              "    }\n",
              "\n",
              "    .dataframe thead th {\n",
              "        text-align: right;\n",
              "    }\n",
              "</style>\n",
              "<table border=\"1\" class=\"dataframe\">\n",
              "  <thead>\n",
              "    <tr style=\"text-align: right;\">\n",
              "      <th></th>\n",
              "      <th>Fold</th>\n",
              "      <th>MAE</th>\n",
              "      <th>MSE</th>\n",
              "      <th>RMSE</th>\n",
              "      <th>R-Squared</th>\n",
              "    </tr>\n",
              "  </thead>\n",
              "  <tbody>\n",
              "    <tr>\n",
              "      <th>0</th>\n",
              "      <td>1</td>\n",
              "      <td>394.003078</td>\n",
              "      <td>4.455119e+06</td>\n",
              "      <td>2110.715271</td>\n",
              "      <td>0.738735</td>\n",
              "    </tr>\n",
              "    <tr>\n",
              "      <th>1</th>\n",
              "      <td>2</td>\n",
              "      <td>729.265896</td>\n",
              "      <td>3.465828e+07</td>\n",
              "      <td>5887.128172</td>\n",
              "      <td>0.173311</td>\n",
              "    </tr>\n",
              "    <tr>\n",
              "      <th>2</th>\n",
              "      <td>3</td>\n",
              "      <td>522.381775</td>\n",
              "      <td>2.507026e+07</td>\n",
              "      <td>5007.021186</td>\n",
              "      <td>0.555903</td>\n",
              "    </tr>\n",
              "    <tr>\n",
              "      <th>3</th>\n",
              "      <td>4</td>\n",
              "      <td>375.092380</td>\n",
              "      <td>5.322867e+06</td>\n",
              "      <td>2307.133958</td>\n",
              "      <td>0.712921</td>\n",
              "    </tr>\n",
              "    <tr>\n",
              "      <th>4</th>\n",
              "      <td>5</td>\n",
              "      <td>597.148012</td>\n",
              "      <td>1.157306e+07</td>\n",
              "      <td>3401.919576</td>\n",
              "      <td>0.788055</td>\n",
              "    </tr>\n",
              "  </tbody>\n",
              "</table>\n",
              "</div>"
            ],
            "text/plain": [
              "   Fold         MAE           MSE         RMSE  R-Squared\n",
              "0     1  394.003078  4.455119e+06  2110.715271   0.738735\n",
              "1     2  729.265896  3.465828e+07  5887.128172   0.173311\n",
              "2     3  522.381775  2.507026e+07  5007.021186   0.555903\n",
              "3     4  375.092380  5.322867e+06  2307.133958   0.712921\n",
              "4     5  597.148012  1.157306e+07  3401.919576   0.788055"
            ]
          },
          "execution_count": 60,
          "metadata": {},
          "output_type": "execute_result"
        }
      ],
      "source": [
        "from xgboost import XGBRegressor\n",
        "\n",
        "kfold = KFold(n_splits=5, shuffle=True, random_state=13)\n",
        "\n",
        "results = []\n",
        "\n",
        "for fold, (train_idx, validation_idx) in enumerate(kfold.split(X)):\n",
        "    X_train, X_validation = X.iloc[train_idx], X.iloc[validation_idx]\n",
        "    y_train, y_validation = y.iloc[train_idx], y.iloc[validation_idx]\n",
        "\n",
        "    xgb_regerssor = XGBRegressor(n_estimators = 400)\n",
        "    xgb_regerssor.fit(X_train, y_train)\n",
        "\n",
        "    xgb_y_pred = xgb_regerssor.predict(X_validation)\n",
        "\n",
        "    mae = mean_absolute_error(y_validation, xgb_y_pred)\n",
        "    mse = mean_squared_error(y_validation, xgb_y_pred)\n",
        "    rmse = np.sqrt(mean_squared_error(y_validation, xgb_y_pred))\n",
        "    rsquared = r2_score(y_validation, xgb_y_pred)\n",
        "\n",
        "    fold_result = {\n",
        "        'Fold': fold + 1,\n",
        "        'MAE': mae,\n",
        "        'MSE': mse,\n",
        "        'RMSE': rmse,\n",
        "        'R-Squared': rsquared\n",
        "    }\n",
        "\n",
        "    results.append(fold_result)\n",
        "\n",
        "# 결과를 데이터프레임으로 변환\n",
        "results_df = pd.DataFrame(results)\n",
        "results_df"
      ]
    },
    {
      "cell_type": "code",
      "execution_count": null,
      "metadata": {
        "id": "xlpWmPzCxos2",
        "outputId": "2d27e80b-2c4e-4993-922a-c97347d64400"
      },
      "outputs": [
        {
          "data": {
            "text/plain": [
              "MAE          5.235782e+02\n",
              "MSE          1.621592e+07\n",
              "RMSE         3.742784e+03\n",
              "R-Squared    5.937850e-01\n",
              "dtype: float64"
            ]
          },
          "execution_count": 61,
          "metadata": {},
          "output_type": "execute_result"
        }
      ],
      "source": [
        "# 학습용 데이터의 전체 폴드 평균 계산\n",
        "average_result = results_df[['MAE', 'MSE', 'RMSE', 'R-Squared']].mean()\n",
        "average_result"
      ]
    },
    {
      "cell_type": "markdown",
      "metadata": {
        "id": "xxShfZV_xos2"
      },
      "source": [
        "### XGBRegressor TEST 데이터 적용"
      ]
    },
    {
      "cell_type": "code",
      "execution_count": null,
      "metadata": {
        "id": "hJxrJ44Oxos2",
        "outputId": "b387e405-48ad-4c25-a0d8-68db79ae8dc6"
      },
      "outputs": [
        {
          "name": "stdout",
          "output_type": "stream",
          "text": [
            "MAE : 1032.6570074666959\n",
            "MSE : 18117742.208648812\n",
            "RMSE : 4256.4941217683845\n",
            "R-Squared : -0.06249361087214256\n"
          ]
        }
      ],
      "source": [
        "xgb_y_pred_test = xgb_regerssor.predict(X_test)\n",
        "\n",
        "mae = mean_absolute_error(y_test, xgb_y_pred_test)\n",
        "mse = mean_squared_error(y_test, xgb_y_pred_test)\n",
        "rmse = np.sqrt(mean_squared_error(y_test, xgb_y_pred_test))\n",
        "rsquared = r2_score(y_test, xgb_y_pred_test)\n",
        "\n",
        "print('MAE :', mae) # 모델의 예측값과 실제값 차이(Error) 를 절대값으로 변환하여 평균한 것\n",
        "print('MSE :', mse) # 모델의 예측값과 실제값 차이(Error)를 제곱한 뒤 평균을 구한 것\n",
        "print('RMSE :', rmse) # MSE에 루트는 씌워서 에러를 제곱해서 생기는 값의 왜곡이 줄어든다.\n",
        "# 세가지 모두 값이 작을 수록 좋은 모델\n",
        "print('R-Squared :', rsquared)"
      ]
    },
    {
      "cell_type": "code",
      "execution_count": null,
      "metadata": {
        "id": "De_TjmEFxos3"
      },
      "outputs": [],
      "source": [
        "# import matplotlib.pyplot as plt\n",
        "\n",
        "# train_score = []\n",
        "# test_score = []\n",
        "# alpha_list =[10, 100, 1000, 10000, 100000, 1000000]\n",
        "# for alpha in alpha_list:\n",
        "#     # 릿지 모델을 만듭니다\n",
        "#     ridge = Ridge(alpha=alpha)\n",
        "#     # 릿지 모델을 훈련합니다\n",
        "#     ridge.fit(train_scaled,  y_train)\n",
        "#     # 훈련 점수와 테스트 점수를 저장합니다\n",
        "#     train_score.append(ridge.score(train_scaled, y_train))\n",
        "#     test_score.append(ridge.score(test_scaled, y_test))\n",
        "# plt.plot(np.log10(alpha_list), train_score)\n",
        "# plt.plot(np.log10(alpha_list), test_score)\n",
        "# plt.xlabel('alpha')\n",
        "# plt.ylabel('R^2')\n",
        "# plt.show()"
      ]
    },
    {
      "cell_type": "code",
      "execution_count": null,
      "metadata": {
        "id": "iOJt_hZ1xos3",
        "outputId": "6be384b6-d2d3-4e3f-d736-f498abee1745"
      },
      "outputs": [
        {
          "data": {
            "text/plain": [
              "<Axes: >"
            ]
          },
          "execution_count": 64,
          "metadata": {},
          "output_type": "execute_result"
        },
        {
          "data": {
            "image/png": "[encoded data removed]",
            "text/plain": [
              "<Figure size 1000x700 with 1 Axes>"
            ]
          },
          "metadata": {},
          "output_type": "display_data"
        }
      ],
      "source": [
        "plt.figure(figsize=(10, 7))\n",
        "sns.boxplot(data=df_copy_corr[['view', 'like', 'review', 'buy']])"
      ]
    },
    {
      "cell_type": "code",
      "execution_count": null,
      "metadata": {
        "id": "v4IUzt8ixos3"
      },
      "outputs": [],
      "source": [
        "def get_outlier(df=None, column=None, weight=1.5):\n",
        "    quantile_25 = np.percentile(df_copy_corr['view'].values, 25)\n",
        "    quantile_75 = np.percentile(df_copy_corr['view'].values, 75)\n",
        "    # .values : numpy array로 변경하기 위해 사용\n",
        "    iqr = quantile_75 - quantile_25\n",
        "    iqr_weight = iqr * weight\n",
        "    highest_val = quantile_75 + iqr_weight\n",
        "\n",
        "    outlier_index = df_copy_corr[df_copy_corr['view'] > highest_val].index\n",
        "\n",
        "    return outlier_index"
      ]
    },
    {
      "cell_type": "code",
      "execution_count": null,
      "metadata": {
        "id": "TrKf6ACHxos3",
        "outputId": "aeec77a1-8eb5-40b5-ec31-7edfdc4f8555"
      },
      "outputs": [
        {
          "data": {
            "text/plain": [
              "Index(['view', 'like', 'review', 'buy'], dtype='object')"
            ]
          },
          "execution_count": 66,
          "metadata": {},
          "output_type": "execute_result"
        }
      ],
      "source": [
        "df_copy_corr.columns"
      ]
    },
    {
      "cell_type": "code",
      "execution_count": null,
      "metadata": {
        "id": "JonZtYdXxos4",
        "outputId": "a58687c2-4de3-44dc-d951-b3bcaeb222b2"
      },
      "outputs": [
        {
          "data": {
            "text/plain": [
              "572"
            ]
          },
          "execution_count": 67,
          "metadata": {},
          "output_type": "execute_result"
        }
      ],
      "source": [
        "len(get_outlier(df=df_copy_corr, column='buy', weight=1.5))"
      ]
    },
    {
      "cell_type": "code",
      "execution_count": null,
      "metadata": {
        "id": "smZ7l0dUxos4"
      },
      "outputs": [],
      "source": []
    },
    {
      "cell_type": "code",
      "execution_count": null,
      "metadata": {
        "id": "tml86Z9wxos4"
      },
      "outputs": [],
      "source": []
    }
  ],
  "metadata": {
    "kernelspec": {
      "display_name": "ds_study",
      "language": "python",
      "name": "python3"
    },
    "language_info": {
      "codemirror_mode": {
        "name": "ipython",
        "version": 3
      },
      "file_extension": ".py",
      "mimetype": "text/x-python",
      "name": "python",
      "nbconvert_exporter": "python",
      "pygments_lexer": "ipython3",
      "version": "3.8.18"
    },
    "colab": {
      "provenance": []
    }
  },
  "nbformat": 4,
  "nbformat_minor": 0
}